{
 "cells": [
  {
   "cell_type": "code",
   "execution_count": 1,
   "id": "6e1bab4a",
   "metadata": {},
   "outputs": [],
   "source": [
    "import pandas as pd\n",
    "import xmltodict\n",
    "import requests\n",
    "import os"
   ]
  },
  {
   "cell_type": "markdown",
   "id": "228bddc4",
   "metadata": {},
   "source": [
    "#### 앱스토어 리뷰 수집하기  \n",
    "* mostrecent_df 변수: 가장 최근 순으로 정렬  \n",
    "* mosthelpful_df 변수: 가장 도움이 되는 순으로 정렬  \n",
    "* review_df 변수 : mostrecent_df + mosthelpful_df - (중복)"
   ]
  },
  {
   "cell_type": "code",
   "execution_count": 50,
   "id": "14e66e17",
   "metadata": {
    "collapsed": true
   },
   "outputs": [
    {
     "name": "stdout",
     "output_type": "stream",
     "text": [
      "https://itunes.apple.com/kr/rss/customerreviews/page=1/id=993504342/sortby=mostrecent/xml?urlDesc=/customerreviews/id=993504342/sortBy=mostrecent/xml\n",
      "https://itunes.apple.com/kr/rss/customerreviews/page=2/id=993504342/sortby=mostrecent/xml?urlDesc=/customerreviews/id=993504342/sortBy=mostrecent/xml\n",
      "https://itunes.apple.com/kr/rss/customerreviews/page=3/id=993504342/sortby=mostrecent/xml?urlDesc=/customerreviews/id=993504342/sortBy=mostrecent/xml\n",
      "https://itunes.apple.com/kr/rss/customerreviews/page=4/id=993504342/sortby=mostrecent/xml?urlDesc=/customerreviews/id=993504342/sortBy=mostrecent/xml\n",
      "https://itunes.apple.com/kr/rss/customerreviews/page=5/id=993504342/sortby=mostrecent/xml?urlDesc=/customerreviews/id=993504342/sortBy=mostrecent/xml\n",
      "https://itunes.apple.com/kr/rss/customerreviews/page=6/id=993504342/sortby=mostrecent/xml?urlDesc=/customerreviews/id=993504342/sortBy=mostrecent/xml\n",
      "https://itunes.apple.com/kr/rss/customerreviews/page=7/id=993504342/sortby=mostrecent/xml?urlDesc=/customerreviews/id=993504342/sortBy=mostrecent/xml\n",
      "https://itunes.apple.com/kr/rss/customerreviews/page=8/id=993504342/sortby=mostrecent/xml?urlDesc=/customerreviews/id=993504342/sortBy=mostrecent/xml\n",
      "https://itunes.apple.com/kr/rss/customerreviews/page=9/id=993504342/sortby=mostrecent/xml?urlDesc=/customerreviews/id=993504342/sortBy=mostrecent/xml\n",
      "https://itunes.apple.com/kr/rss/customerreviews/page=10/id=993504342/sortby=mostrecent/xml?urlDesc=/customerreviews/id=993504342/sortBy=mostrecent/xml\n",
      "https://itunes.apple.com/kr/rss/customerreviews/page=1/id=993504342/sortby=mosthelpful/xml?urlDesc=/customerreviews/id=993504342/sortBy=mosthelpful/xml\n",
      "https://itunes.apple.com/kr/rss/customerreviews/page=2/id=993504342/sortby=mosthelpful/xml?urlDesc=/customerreviews/id=993504342/sortBy=mosthelpful/xml\n",
      "https://itunes.apple.com/kr/rss/customerreviews/page=3/id=993504342/sortby=mosthelpful/xml?urlDesc=/customerreviews/id=993504342/sortBy=mosthelpful/xml\n",
      "https://itunes.apple.com/kr/rss/customerreviews/page=4/id=993504342/sortby=mosthelpful/xml?urlDesc=/customerreviews/id=993504342/sortBy=mosthelpful/xml\n",
      "https://itunes.apple.com/kr/rss/customerreviews/page=5/id=993504342/sortby=mosthelpful/xml?urlDesc=/customerreviews/id=993504342/sortBy=mosthelpful/xml\n",
      "https://itunes.apple.com/kr/rss/customerreviews/page=6/id=993504342/sortby=mosthelpful/xml?urlDesc=/customerreviews/id=993504342/sortBy=mosthelpful/xml\n",
      "https://itunes.apple.com/kr/rss/customerreviews/page=7/id=993504342/sortby=mosthelpful/xml?urlDesc=/customerreviews/id=993504342/sortBy=mosthelpful/xml\n",
      "https://itunes.apple.com/kr/rss/customerreviews/page=8/id=993504342/sortby=mosthelpful/xml?urlDesc=/customerreviews/id=993504342/sortBy=mosthelpful/xml\n",
      "https://itunes.apple.com/kr/rss/customerreviews/page=9/id=993504342/sortby=mosthelpful/xml?urlDesc=/customerreviews/id=993504342/sortBy=mosthelpful/xml\n",
      "https://itunes.apple.com/kr/rss/customerreviews/page=10/id=993504342/sortby=mosthelpful/xml?urlDesc=/customerreviews/id=993504342/sortBy=mosthelpful/xml\n"
     ]
    }
   ],
   "source": [
    "def get_url_index(url):\n",
    "    response = requests.get(url).content.decode('utf8')\n",
    "    xml = xmltodict.parse(response)\n",
    "\n",
    "    last_url = [l['@href'] for l in xml['feed']['link'] if (l['@rel'] == 'last')][0]\n",
    "    last_index = [int(s.replace('page=', '')) for s in last_url.split('/') if ('page=' in s)][0]\n",
    "\n",
    "    return last_index\n",
    "\n",
    "# https://stackoverflow.com/questions/1090282/api-to-monitor-iphone-app-store-reviews\n",
    "def appstore_crawler(appid,sortmethod):\n",
    "    url = 'https://itunes.apple.com/kr/rss/customerreviews/page=1/id=%i/sortby=%s/xml' % (appid, sortmethod)\n",
    "    try:\n",
    "        last_index = get_url_index(url)\n",
    "    except Exception as e:\n",
    "        print (url)\n",
    "        print ('\\tNo Reviews: appid %i' %appid)\n",
    "        print ('\\tException:', e)\n",
    "        return\n",
    "\n",
    "    result = list()\n",
    "    for idx in range(1, last_index+1):\n",
    "        url = \"https://itunes.apple.com/kr/rss/customerreviews/page=%i/id=%i/sortby=%s/xml?urlDesc=/customerreviews/id=%i/sortBy=%s/xml\" % (idx, appid, sortmethod, appid, sortmethod)\n",
    "        print(url)\n",
    "\n",
    "        response = requests.get(url).content.decode('utf8')\n",
    "        try:\n",
    "            xml = xmltodict.parse(response)\n",
    "        except Exception as e:\n",
    "            print ('\\tXml Parse Error %s\\n\\tSkip %s :' %(e, url))\n",
    "            continue\n",
    "\n",
    "        try:\n",
    "            num_reivews= len(xml['feed']['entry'])\n",
    "        except Exception as e:\n",
    "            print ('\\tNo Entry', e)\n",
    "            continue\n",
    "\n",
    "        try:\n",
    "            xml['feed']['entry'][0]['author']['name']\n",
    "            single_reviews = False\n",
    "        except:\n",
    "            #print ('\\tOnly 1 review!!!')\n",
    "            single_reviews = True\n",
    "            pass\n",
    "\n",
    "        if single_reviews:\n",
    "                result.append({\n",
    "                    'userName': xml['feed']['entry']['author']['name'],\n",
    "                    'date': xml['feed']['entry']['updated'],\n",
    "                    'rating': int(xml['feed']['entry']['im:rating']),\n",
    "                    'like': int(xml['feed']['entry']['im:voteSum']),\n",
    "                    'title': xml['feed']['entry']['title'],\n",
    "                    'review': xml['feed']['entry']['content'][0]['#text'],\n",
    "                })\n",
    "        else:\n",
    "            for i in range(len(xml['feed']['entry'])):\n",
    "                result.append({\n",
    "                    'userName': xml['feed']['entry'][i]['author']['name'],\n",
    "                    'date': xml['feed']['entry'][i]['updated'],\n",
    "                    'rating': int(xml['feed']['entry'][i]['im:rating']),\n",
    "                    'like': int(xml['feed']['entry'][i]['im:voteSum']),\n",
    "                    'title': xml['feed']['entry'][i]['title'],\n",
    "                    'review': xml['feed']['entry'][i]['content'][0]['#text'],\n",
    "                })\n",
    "\n",
    "    res_df = pd.DataFrame(result)\n",
    "    res_df['date'] = pd.to_datetime(res_df['date'], format=\"%Y-%m-%dT%H:%M:%S\")\n",
    "#     res_df.to_csv(outfile, encoding='utf-8-sig', index=False)\n",
    "#     print ('Save reviews to file: %s \\n' %(outfile))\n",
    "    return res_df\n",
    "\n",
    "\n",
    "if __name__ == '__main__':\n",
    "    app_id = 993504342\n",
    "    mostrecent_df = appstore_crawler(app_id, 'mostrecent')\n",
    "    mosthelpful_df = appstore_crawler(app_id, 'mosthelpful')\n",
    "    \n",
    "    # 병합\n",
    "    review_df = pd.concat([mostrecent_df, mosthelpful_df])\n",
    "    review_df.drop_duplicates(keep=\"first\",inplace=True)\n",
    "    review_df['content'] = review_df['title'] + ' ' + review_df['review']"
   ]
  },
  {
   "cell_type": "code",
   "execution_count": 52,
   "id": "c6e0006a",
   "metadata": {},
   "outputs": [],
   "source": [
    "# 파일 저장\n",
    "review_df.to_csv(\"./crawling_data/apple_thinq_original.csv\",encoding='utf-8 sig', index=False)"
   ]
  },
  {
   "cell_type": "markdown",
   "id": "18d0a1cd",
   "metadata": {},
   "source": [
    "---------------------------------"
   ]
  },
  {
   "cell_type": "code",
   "execution_count": 54,
   "id": "d2d30d89",
   "metadata": {},
   "outputs": [
    {
     "data": {
      "text/html": [
       "<div>\n",
       "<style scoped>\n",
       "    .dataframe tbody tr th:only-of-type {\n",
       "        vertical-align: middle;\n",
       "    }\n",
       "\n",
       "    .dataframe tbody tr th {\n",
       "        vertical-align: top;\n",
       "    }\n",
       "\n",
       "    .dataframe thead th {\n",
       "        text-align: right;\n",
       "    }\n",
       "</style>\n",
       "<table border=\"1\" class=\"dataframe\">\n",
       "  <thead>\n",
       "    <tr style=\"text-align: right;\">\n",
       "      <th></th>\n",
       "      <th>userName</th>\n",
       "      <th>date</th>\n",
       "      <th>rating</th>\n",
       "      <th>like</th>\n",
       "      <th>title</th>\n",
       "      <th>review</th>\n",
       "      <th>content</th>\n",
       "    </tr>\n",
       "  </thead>\n",
       "  <tbody>\n",
       "    <tr>\n",
       "      <th>0</th>\n",
       "      <td>강남오렌지</td>\n",
       "      <td>2022-07-24 20:24:44-07:00</td>\n",
       "      <td>1</td>\n",
       "      <td>0</td>\n",
       "      <td>스마트케어 온도 설정</td>\n",
       "      <td>기준 온도 직접 설정 27도로 설정해놨는데, 자꾸 희망온도가 28도로 올라감...하..</td>\n",
       "      <td>스마트케어 온도 설정 기준 온도 직접 설정 27도로 설정해놨는데, 자꾸 희망온도가 ...</td>\n",
       "    </tr>\n",
       "    <tr>\n",
       "      <th>1</th>\n",
       "      <td>우주괴에물</td>\n",
       "      <td>2022-07-24 08:08:11-07:00</td>\n",
       "      <td>1</td>\n",
       "      <td>0</td>\n",
       "      <td>TV 연결 안됨</td>\n",
       "      <td>유튜브나 넷플릭스에서는 같은 네트워크일 때 연결하겠습니까 잘 뜨는데 씽큐에서 제품연...</td>\n",
       "      <td>TV 연결 안됨 유튜브나 넷플릭스에서는 같은 네트워크일 때 연결하겠습니까 잘 뜨는데...</td>\n",
       "    </tr>\n",
       "    <tr>\n",
       "      <th>2</th>\n",
       "      <td>ㅇ헣ㄹㅇ</td>\n",
       "      <td>2022-07-24 05:57:38-07:00</td>\n",
       "      <td>5</td>\n",
       "      <td>0</td>\n",
       "      <td>굿</td>\n",
       "      <td>엘지 iot 시작</td>\n",
       "      <td>굿 엘지 iot 시작</td>\n",
       "    </tr>\n",
       "    <tr>\n",
       "      <th>3</th>\n",
       "      <td>까암씨</td>\n",
       "      <td>2022-07-23 22:59:15-07:00</td>\n",
       "      <td>5</td>\n",
       "      <td>0</td>\n",
       "      <td>건조기 등록이 너무 어려워 별 4 개요</td>\n",
       "      <td>건조기 등록이 너무 잘안되용. 그래서 4 개 입니다.</td>\n",
       "      <td>건조기 등록이 너무 어려워 별 4 개요 건조기 등록이 너무 잘안되용. 그래서 4 개...</td>\n",
       "    </tr>\n",
       "    <tr>\n",
       "      <th>4</th>\n",
       "      <td>라이프이즈구웃</td>\n",
       "      <td>2022-07-23 07:35:17-07:00</td>\n",
       "      <td>4</td>\n",
       "      <td>0</td>\n",
       "      <td>백색가전은 엘지</td>\n",
       "      <td>앱으로 가전 제품 관리하기가 용이해요</td>\n",
       "      <td>백색가전은 엘지 앱으로 가전 제품 관리하기가 용이해요</td>\n",
       "    </tr>\n",
       "    <tr>\n",
       "      <th>...</th>\n",
       "      <td>...</td>\n",
       "      <td>...</td>\n",
       "      <td>...</td>\n",
       "      <td>...</td>\n",
       "      <td>...</td>\n",
       "      <td>...</td>\n",
       "      <td>...</td>\n",
       "    </tr>\n",
       "    <tr>\n",
       "      <th>913</th>\n",
       "      <td>ㅎㅎㅋㅋㅎㅎㄹㅋㄱㅁ</td>\n",
       "      <td>2019-06-22 04:15:25-07:00</td>\n",
       "      <td>3</td>\n",
       "      <td>0</td>\n",
       "      <td>우와 했는데</td>\n",
       "      <td>오늘 에어컨 설치하고 어플받고 제품등록 싹하고 기존에 있던 공기청정기 등록 다하고 ...</td>\n",
       "      <td>우와 했는데 오늘 에어컨 설치하고 어플받고 제품등록 싹하고 기존에 있던 공기청정기 ...</td>\n",
       "    </tr>\n",
       "    <tr>\n",
       "      <th>914</th>\n",
       "      <td>샤레레마</td>\n",
       "      <td>2018-04-26 16:36:23-07:00</td>\n",
       "      <td>5</td>\n",
       "      <td>0</td>\n",
       "      <td>관리를 안하는건가요?</td>\n",
       "      <td>원격제품은 팔아놓으시고 서비스관리는 안하시는 건가요? 저번에도 그랬는데 어제부터 서...</td>\n",
       "      <td>관리를 안하는건가요? 원격제품은 팔아놓으시고 서비스관리는 안하시는 건가요? 저번에도...</td>\n",
       "    </tr>\n",
       "    <tr>\n",
       "      <th>915</th>\n",
       "      <td>Myoyu</td>\n",
       "      <td>2021-08-28 16:29:22-07:00</td>\n",
       "      <td>2</td>\n",
       "      <td>0</td>\n",
       "      <td>업데이트후 제습기 예약 동작 오류</td>\n",
       "      <td>매일, 일정시간에 켜고 일정시간후 끄기 예약 기능 잘 사용하고 있었는데 업데이트후 ...</td>\n",
       "      <td>업데이트후 제습기 예약 동작 오류 매일, 일정시간에 켜고 일정시간후 끄기 예약 기능...</td>\n",
       "    </tr>\n",
       "    <tr>\n",
       "      <th>916</th>\n",
       "      <td>초등학생</td>\n",
       "      <td>2021-08-22 00:19:29-07:00</td>\n",
       "      <td>3</td>\n",
       "      <td>0</td>\n",
       "      <td>에어컨 네트워크 보안 WPA3 지원요청</td>\n",
       "      <td>에어컨 네트워크 보안 WAP3 지원 요청합니다.\\n\\n현재는 지원을 안해서 WPA/...</td>\n",
       "      <td>에어컨 네트워크 보안 WPA3 지원요청 에어컨 네트워크 보안 WAP3 지원 요청합니...</td>\n",
       "    </tr>\n",
       "    <tr>\n",
       "      <th>917</th>\n",
       "      <td>캐쓸</td>\n",
       "      <td>2021-08-13 04:45:44-07:00</td>\n",
       "      <td>5</td>\n",
       "      <td>0</td>\n",
       "      <td>에어컨 펌웨어했는데 달라진게 없어요</td>\n",
       "      <td>동결건조 같은 관리 기능이 추가된 것 같은데 아무런 변화가 없습니다</td>\n",
       "      <td>에어컨 펌웨어했는데 달라진게 없어요 동결건조 같은 관리 기능이 추가된 것 같은데 아...</td>\n",
       "    </tr>\n",
       "  </tbody>\n",
       "</table>\n",
       "<p>918 rows × 7 columns</p>\n",
       "</div>"
      ],
      "text/plain": [
       "       userName                       date  rating  like  \\\n",
       "0         강남오렌지  2022-07-24 20:24:44-07:00       1     0   \n",
       "1         우주괴에물  2022-07-24 08:08:11-07:00       1     0   \n",
       "2          ㅇ헣ㄹㅇ  2022-07-24 05:57:38-07:00       5     0   \n",
       "3           까암씨  2022-07-23 22:59:15-07:00       5     0   \n",
       "4       라이프이즈구웃  2022-07-23 07:35:17-07:00       4     0   \n",
       "..          ...                        ...     ...   ...   \n",
       "913  ㅎㅎㅋㅋㅎㅎㄹㅋㄱㅁ  2019-06-22 04:15:25-07:00       3     0   \n",
       "914        샤레레마  2018-04-26 16:36:23-07:00       5     0   \n",
       "915       Myoyu  2021-08-28 16:29:22-07:00       2     0   \n",
       "916        초등학생  2021-08-22 00:19:29-07:00       3     0   \n",
       "917          캐쓸  2021-08-13 04:45:44-07:00       5     0   \n",
       "\n",
       "                     title                                             review  \\\n",
       "0              스마트케어 온도 설정   기준 온도 직접 설정 27도로 설정해놨는데, 자꾸 희망온도가 28도로 올라감...하..   \n",
       "1                 TV 연결 안됨  유튜브나 넷플릭스에서는 같은 네트워크일 때 연결하겠습니까 잘 뜨는데 씽큐에서 제품연...   \n",
       "2                        굿                                          엘지 iot 시작   \n",
       "3    건조기 등록이 너무 어려워 별 4 개요                      건조기 등록이 너무 잘안되용. 그래서 4 개 입니다.   \n",
       "4                 백색가전은 엘지                               앱으로 가전 제품 관리하기가 용이해요   \n",
       "..                     ...                                                ...   \n",
       "913                 우와 했는데  오늘 에어컨 설치하고 어플받고 제품등록 싹하고 기존에 있던 공기청정기 등록 다하고 ...   \n",
       "914            관리를 안하는건가요?  원격제품은 팔아놓으시고 서비스관리는 안하시는 건가요? 저번에도 그랬는데 어제부터 서...   \n",
       "915     업데이트후 제습기 예약 동작 오류  매일, 일정시간에 켜고 일정시간후 끄기 예약 기능 잘 사용하고 있었는데 업데이트후 ...   \n",
       "916  에어컨 네트워크 보안 WPA3 지원요청  에어컨 네트워크 보안 WAP3 지원 요청합니다.\\n\\n현재는 지원을 안해서 WPA/...   \n",
       "917    에어컨 펌웨어했는데 달라진게 없어요              동결건조 같은 관리 기능이 추가된 것 같은데 아무런 변화가 없습니다   \n",
       "\n",
       "                                               content  \n",
       "0    스마트케어 온도 설정 기준 온도 직접 설정 27도로 설정해놨는데, 자꾸 희망온도가 ...  \n",
       "1    TV 연결 안됨 유튜브나 넷플릭스에서는 같은 네트워크일 때 연결하겠습니까 잘 뜨는데...  \n",
       "2                                          굿 엘지 iot 시작  \n",
       "3    건조기 등록이 너무 어려워 별 4 개요 건조기 등록이 너무 잘안되용. 그래서 4 개...  \n",
       "4                        백색가전은 엘지 앱으로 가전 제품 관리하기가 용이해요  \n",
       "..                                                 ...  \n",
       "913  우와 했는데 오늘 에어컨 설치하고 어플받고 제품등록 싹하고 기존에 있던 공기청정기 ...  \n",
       "914  관리를 안하는건가요? 원격제품은 팔아놓으시고 서비스관리는 안하시는 건가요? 저번에도...  \n",
       "915  업데이트후 제습기 예약 동작 오류 매일, 일정시간에 켜고 일정시간후 끄기 예약 기능...  \n",
       "916  에어컨 네트워크 보안 WPA3 지원요청 에어컨 네트워크 보안 WAP3 지원 요청합니...  \n",
       "917  에어컨 펌웨어했는데 달라진게 없어요 동결건조 같은 관리 기능이 추가된 것 같은데 아...  \n",
       "\n",
       "[918 rows x 7 columns]"
      ]
     },
     "execution_count": 54,
     "metadata": {},
     "output_type": "execute_result"
    }
   ],
   "source": [
    "# 파일 불러오기\n",
    "review_df = pd.read_csv(\"./crawling_data/apple_thinq_original.csv\", encoding='utf-8 sig')\n",
    "review_df"
   ]
  },
  {
   "cell_type": "markdown",
   "id": "a130c9b5",
   "metadata": {},
   "source": [
    "####  데이터 전처리  \n",
    "- 문장 자르기\n",
    "- 맞춤법 검사  \n",
    "- 품사 분류  \n",
    "- 불용어 처리  "
   ]
  },
  {
   "cell_type": "code",
   "execution_count": 55,
   "id": "d7a498b6",
   "metadata": {},
   "outputs": [
    {
     "name": "stderr",
     "output_type": "stream",
     "text": [
      "[Korean Sentence Splitter]: Initializing Pynori...\n"
     ]
    }
   ],
   "source": [
    "# 문자 빼고 지움(정규표현식)\n",
    "# 문장 자르기\n",
    "import kss\n",
    "import re\n",
    "\n",
    "UNKNOWN_WORD = \"...하\"\n",
    "def OnlyWords(s):\n",
    "    result = re.sub('[^ A-Za-z가-힣]', '', s)\n",
    "    return result\n",
    "\n",
    "review_df['content_n']=review_df['content'].apply(\\\n",
    "        lambda x: kss.split_sentences(OnlyWords(x)) if UNKNOWN_WORD not in x else kss.split_sentences(OnlyWords(x).replace(UNKNOWN_WORD,\"..\")))"
   ]
  },
  {
   "cell_type": "code",
   "execution_count": 56,
   "id": "473b5c25",
   "metadata": {},
   "outputs": [],
   "source": [
    "# 맞춤법 검사 \n",
    "from hanspell import spell_checker\n",
    "\n",
    "def spell_checking(sent_list):\n",
    "    sent_spell=[]\n",
    "    for sentence in sent_list:\n",
    "        sent_spell.append(spell_checker.check(sentence).checked)\n",
    "    return(sent_spell)\n",
    "\n",
    "review_df['cotent_n_spell']=review_df['content_n'].apply(lambda x: spell_checking(x))"
   ]
  },
  {
   "cell_type": "code",
   "execution_count": 57,
   "id": "71a722d4",
   "metadata": {},
   "outputs": [],
   "source": [
    "# 중간 저장\n",
    "review_df.to_csv(\"./crawling_data/apple_thinq_preprocessing1.csv\", encoding='utf-8 sig', index=False)"
   ]
  },
  {
   "cell_type": "code",
   "execution_count": 58,
   "id": "951f995b",
   "metadata": {},
   "outputs": [],
   "source": [
    "review_df['content_n']=review_df['cotent_n_spell']"
   ]
  },
  {
   "cell_type": "code",
   "execution_count": 59,
   "id": "301913ec",
   "metadata": {},
   "outputs": [],
   "source": [
    "from konlpy.tag import Okt  \n",
    "okt=Okt() \n",
    "# 명사, 형용사, 동사\n",
    "def n_a_v_selection(sent_list):\n",
    "    sent_tokens=[]\n",
    "    for sentence in sent_list:\n",
    "        pos_result=okt.pos(sentence, stem=True)\n",
    "        filtered_result=[pair[0] for pair in pos_result if (pair[1]=='Alpha')or(pair[1]=='Noun')or(pair[1]=='Verb')or(pair[1]=='Adjective') or(pair[1]=='Adverb')]\n",
    "        sent_tokens.append(filtered_result)\n",
    "    return sent_tokens\n",
    "\n",
    "# 명사, 형용사\n",
    "def n_a_selection(sent_list):\n",
    "    sent_tokens=[]\n",
    "    for sentence in sent_list:\n",
    "        pos_result=okt.pos(sentence, stem=True)\n",
    "        filtered_result=[pair[0] for pair in pos_result if (pair[1]=='Alpha')or(pair[1]=='Noun')or(pair[1]=='Adjective') or(pair[1]=='Adverb')]\n",
    "        sent_tokens.append(filtered_result)\n",
    "    return sent_tokens\n",
    "        \n",
    "# 명사만\n",
    "def noun_selection(sent_list):\n",
    "    sent_tokens=[]\n",
    "    for sentence in sent_list:\n",
    "        sent_tokens.append(okt.nouns(sentence))\n",
    "    return(sent_tokens)\n",
    "\n",
    "\n",
    "review_df['content_n']=review_df['content_n'].apply(lambda x: n_a_v_selection(x))"
   ]
  },
  {
   "cell_type": "code",
   "execution_count": 60,
   "id": "d1b356e6",
   "metadata": {},
   "outputs": [],
   "source": [
    "# 불용어 처리\n",
    "import json\n",
    "\n",
    "with open('korean_stopword.json',encoding='utf8') as f:\n",
    "    stopwords = json.load(f)\n",
    "\n",
    "stopwords.extend(['안','수','거','왜','것','후','에서','고','이다','는','한','안녕','형','형님','건','안','요','거','피','질','번','용','군','영','스','좀','데','듯','넉','테','런','하다','하나요','되다','안되다','있다','없다'])\n",
    "\n",
    "def rem_n_stopwords(sent_list):\n",
    "    sent_stop=[]\n",
    "    for sentence in sent_list:\n",
    "        new_sent=[]\n",
    "        for token in sentence:\n",
    "            if token not in stopwords:\n",
    "                new_sent.append(token)\n",
    "        sent_stop.append(new_sent)\n",
    "    return(sent_stop)\n",
    "\n",
    "review_df['content_n']=review_df['content_n'].apply(lambda x: rem_n_stopwords(x))"
   ]
  },
  {
   "cell_type": "code",
   "execution_count": 61,
   "id": "f6430baa",
   "metadata": {},
   "outputs": [],
   "source": [
    "# 빈 리스트 제거\n",
    "def remove_empty_list(sent_list):\n",
    "    removed_list = []\n",
    "    for sentence in sent_list:\n",
    "        if sentence: # sentence가 빈 경우가 아니면\n",
    "            removed_list.append(sentence)    \n",
    "    return removed_list\n",
    "\n",
    "review_df['content_n']=review_df['content_n'].apply(lambda x: remove_empty_list(x))\n",
    "\n",
    "# review_df.to_csv('thinq_review_result.csv',index=False, encoding='utf-8-sig')\n",
    "\n",
    "# 리뷰 전체를 한 리스트로 만들기\n",
    "def one_word_list(sent_list):\n",
    "    one_list=[]\n",
    "    for sentence in sent_list:\n",
    "        one_list.extend(sentence)\n",
    "    return(one_list)\n",
    "\n",
    "# test['content_n']=test['content_n'].apply(lambda x: one_word_list(x))\n",
    "review_df['content_n']=review_df['content_n'].apply(lambda x: one_word_list(x))"
   ]
  },
  {
   "cell_type": "code",
   "execution_count": 62,
   "id": "655442e9",
   "metadata": {},
   "outputs": [],
   "source": [
    "# 전처리 完\n",
    "review_df.to_csv(\"./crawling_data/apple_thinq_processing2_65.csv\", encoding='utf-8 sig', index=False)"
   ]
  },
  {
   "cell_type": "code",
   "execution_count": 63,
   "id": "6833af62",
   "metadata": {},
   "outputs": [],
   "source": [
    "# 단어 빈도 그래프\n",
    "total_word=[]\n",
    "for i in range(len(review_df)):\n",
    "    total_word.extend(review_df.loc[i,'content_n'])\n",
    "\n",
    "word_vc = pd.Series(total_word).value_counts()"
   ]
  },
  {
   "cell_type": "markdown",
   "id": "75f34743",
   "metadata": {},
   "source": [
    "#### (4) 워드클라우드  \n",
    "- 워드클라우드 만들고 이미지 저장"
   ]
  },
  {
   "cell_type": "code",
   "execution_count": null,
   "id": "8bcf96d6",
   "metadata": {},
   "outputs": [],
   "source": [
    "# 프로그램 재실행할 경우, 파일 읽기\n",
    "review_df = pd.read_csv(\"./crawling_data/apple_thinq_processing2_65.csv\", encoding='utf-8 sig')"
   ]
  },
  {
   "cell_type": "code",
   "execution_count": 70,
   "id": "43dabde8",
   "metadata": {},
   "outputs": [
    {
     "data": {
      "text/plain": [
       "<matplotlib.image.AxesImage at 0x296cd2e4880>"
      ]
     },
     "execution_count": 70,
     "metadata": {},
     "output_type": "execute_result"
    },
    {
     "data": {
      "image/png": "[encoded data removed]",
      "text/plain": [
       "<Figure size 432x288 with 1 Axes>"
      ]
     },
     "metadata": {
      "needs_background": "light"
     },
     "output_type": "display_data"
    }
   ],
   "source": [
    "# 워드클라우드\n",
    "from wordcloud import WordCloud\n",
    "import matplotlib.pyplot as plt\n",
    "\n",
    "word_dict = word_vc.to_dict()\n",
    "delete_word = ['앱','더','개','해주다','좋다','사용','자다','않다','너무','아니다','돼다','쓰다','다']\n",
    "for word in delete_word:\n",
    "    del word_dict[word]\n",
    "\n",
    "wc = WordCloud(font_path='c:/Windows/Fonts/malgun.ttf', \n",
    "               width=400, height=400,scale=2,\n",
    "               max_font_size=250, max_words=100,\n",
    "               background_color='white')\n",
    "gen = wc.generate_from_frequencies(word_dict)\n",
    "plt.figure()\n",
    "plt.imshow(gen)\n",
    "# plt.savefig(\"./crawling_data/gps_thinq_65_n_wordcloud.png\")"
   ]
  },
  {
   "cell_type": "code",
   "execution_count": 71,
   "id": "eb87f479",
   "metadata": {},
   "outputs": [
    {
     "data": {
      "text/plain": [
       "<Figure size 432x288 with 0 Axes>"
      ]
     },
     "metadata": {},
     "output_type": "display_data"
    }
   ],
   "source": [
    "# 이미지 저장\n",
    "plt.savefig(\"./crawling_data/apple_thinq_nav_wordcloud.png\")"
   ]
  }
 ],
 "metadata": {
  "kernelspec": {
   "display_name": "Python 3 (ipykernel)",
   "language": "python",
   "name": "python3"
  },
  "language_info": {
   "codemirror_mode": {
    "name": "ipython",
    "version": 3
   },
   "file_extension": ".py",
   "mimetype": "text/x-python",
   "name": "python",
   "nbconvert_exporter": "python",
   "pygments_lexer": "ipython3",
   "version": "3.9.7"
  }
 },
 "nbformat": 4,
 "nbformat_minor": 5
}
