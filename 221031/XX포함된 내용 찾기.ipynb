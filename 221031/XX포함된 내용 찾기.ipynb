{
 "cells": [
  {
   "cell_type": "code",
   "execution_count": 8,
   "id": "96b60b14",
   "metadata": {},
   "outputs": [
    {
     "data": {
      "text/html": [
       "<div>\n",
       "<style scoped>\n",
       "    .dataframe tbody tr th:only-of-type {\n",
       "        vertical-align: middle;\n",
       "    }\n",
       "\n",
       "    .dataframe tbody tr th {\n",
       "        vertical-align: top;\n",
       "    }\n",
       "\n",
       "    .dataframe thead th {\n",
       "        text-align: right;\n",
       "    }\n",
       "</style>\n",
       "<table border=\"1\" class=\"dataframe\">\n",
       "  <thead>\n",
       "    <tr style=\"text-align: right;\">\n",
       "      <th></th>\n",
       "      <th>Date</th>\n",
       "      <th>Positive Sentence(s)</th>\n",
       "      <th>Comments</th>\n",
       "      <th>URL</th>\n",
       "    </tr>\n",
       "  </thead>\n",
       "  <tbody>\n",
       "    <tr>\n",
       "      <th>0</th>\n",
       "      <td>2022-09-30</td>\n",
       "      <td>저는 시간 오래 걸려도 강력 코스 스팀 추가 안심 헹굼 열풍건조 90분 해요 | 그...</td>\n",
       "      <td>저는 시간 오래걸려도 강력코스 스팀추가 안심헹굼 열풍건조90분해요\\r3시간25분나와...</td>\n",
       "      <td>http://cafe.naver.com/isajime/5395161</td>\n",
       "    </tr>\n",
       "    <tr>\n",
       "      <th>1</th>\n",
       "      <td>2022-09-30</td>\n",
       "      <td>주문부터 설치까지 뚝딱이네요 | 좋네요</td>\n",
       "      <td>주문부터 설치까지 뚝딱이네요 좋네요 ㅎ</td>\n",
       "      <td>http://search.shopping.naver.com/catalog/31774...</td>\n",
       "    </tr>\n",
       "    <tr>\n",
       "      <th>2</th>\n",
       "      <td>2022-09-30</td>\n",
       "      <td>저렴하게 샀습니다 | 기사분 완전 왕 친절하네요 | 처음 사용이라니까 자세히 사용법...</td>\n",
       "      <td>저렴하게 삿습니다 기사분 완전 왕 친절하네요처음사용이라니까 자세히 사용법 설명해주시...</td>\n",
       "      <td>http://search.shopping.naver.com/catalog/25499...</td>\n",
       "    </tr>\n",
       "    <tr>\n",
       "      <th>3</th>\n",
       "      <td>2022-09-30</td>\n",
       "      <td>삼성 식기세척기는 처음 사용해 보는데 소음이 적고 나름 편리하게 나왔네요</td>\n",
       "      <td>삼성 식세기는 처음 사용해 보는데 소음이 적고 나름 편리하게  나왔네요</td>\n",
       "      <td>http://search.shopping.naver.com/catalog/25499...</td>\n",
       "    </tr>\n",
       "    <tr>\n",
       "      <th>4</th>\n",
       "      <td>2022-09-30</td>\n",
       "      <td>설치도 빨리해주시고 서랍장 공사도 잘해주셔서 좋았습니다 가격도 저렴했고요</td>\n",
       "      <td>설치도 빨리해주시고 서랍장 공사도 잘해주셔서 좋았습니다 가격도 저렴했고요 앞으로 번...</td>\n",
       "      <td>http://search.shopping.naver.com/detail/detail...</td>\n",
       "    </tr>\n",
       "  </tbody>\n",
       "</table>\n",
       "</div>"
      ],
      "text/plain": [
       "         Date                               Positive Sentence(s)  \\\n",
       "0  2022-09-30  저는 시간 오래 걸려도 강력 코스 스팀 추가 안심 헹굼 열풍건조 90분 해요 | 그...   \n",
       "1  2022-09-30                              주문부터 설치까지 뚝딱이네요 | 좋네요   \n",
       "2  2022-09-30  저렴하게 샀습니다 | 기사분 완전 왕 친절하네요 | 처음 사용이라니까 자세히 사용법...   \n",
       "3  2022-09-30           삼성 식기세척기는 처음 사용해 보는데 소음이 적고 나름 편리하게 나왔네요   \n",
       "4  2022-09-30           설치도 빨리해주시고 서랍장 공사도 잘해주셔서 좋았습니다 가격도 저렴했고요   \n",
       "\n",
       "                                            Comments  \\\n",
       "0  저는 시간 오래걸려도 강력코스 스팀추가 안심헹굼 열풍건조90분해요\\r3시간25분나와...   \n",
       "1                              주문부터 설치까지 뚝딱이네요 좋네요 ㅎ   \n",
       "2  저렴하게 삿습니다 기사분 완전 왕 친절하네요처음사용이라니까 자세히 사용법 설명해주시...   \n",
       "3            삼성 식세기는 처음 사용해 보는데 소음이 적고 나름 편리하게  나왔네요   \n",
       "4  설치도 빨리해주시고 서랍장 공사도 잘해주셔서 좋았습니다 가격도 저렴했고요 앞으로 번...   \n",
       "\n",
       "                                                 URL  \n",
       "0              http://cafe.naver.com/isajime/5395161  \n",
       "1  http://search.shopping.naver.com/catalog/31774...  \n",
       "2  http://search.shopping.naver.com/catalog/25499...  \n",
       "3  http://search.shopping.naver.com/catalog/25499...  \n",
       "4  http://search.shopping.naver.com/detail/detail...  "
      ]
     },
     "execution_count": 8,
     "metadata": {},
     "output_type": "execute_result"
    }
   ],
   "source": [
    "import pandas as pd\n",
    "\n",
    "voc_file = pd.read_csv('./machine_data/식기세척기_긍정+부정_합본_VoC.csv', encoding='cp949')\n",
    "cate_df = pd.read_csv('./machine_data/VoC카테고리.csv', encoding = 'cp949')\n",
    "file.head()"
   ]
  },
  {
   "cell_type": "code",
   "execution_count": 6,
   "id": "12dafff9",
   "metadata": {},
   "outputs": [],
   "source": [
    "cate_list = cate_df['대분류'].tolist()"
   ]
  },
  {
   "cell_type": "code",
   "execution_count": 19,
   "id": "4a97d31c",
   "metadata": {},
   "outputs": [
    {
     "name": "stdout",
     "output_type": "stream",
     "text": [
      "대분류 입력: 디자인\n",
      "소분류 입력(,사용하여 여러 개 입력):컬러\n"
     ]
    }
   ],
   "source": [
    "BIG = input('대분류 입력: ')\n",
    "SMALL = list(map(lambda x: x.strip(), input('소분류 입력(,사용하여 여러 개 입력):').split(',')))"
   ]
  },
  {
   "cell_type": "code",
   "execution_count": 17,
   "id": "ea7685d2",
   "metadata": {},
   "outputs": [],
   "source": [
    "filter1 = voc_file[voc_file['Comments'].str.contains(BIG)]   #대분류 필터\n",
    "filter2 = filter1[filter1['Comments'].str.contains('|'.join(SMALL))]   # 소분류 필터"
   ]
  },
  {
   "cell_type": "code",
   "execution_count": 22,
   "id": "26069099",
   "metadata": {},
   "outputs": [],
   "source": [
    "filter2.to_csv('./dd.csv', encoding='utf-8 sig', index=False)"
   ]
  }
 ],
 "metadata": {
  "kernelspec": {
   "display_name": "Python 3 (ipykernel)",
   "language": "python",
   "name": "python3"
  },
  "language_info": {
   "codemirror_mode": {
    "name": "ipython",
    "version": 3
   },
   "file_extension": ".py",
   "mimetype": "text/x-python",
   "name": "python",
   "nbconvert_exporter": "python",
   "pygments_lexer": "ipython3",
   "version": "3.9.7"
  }
 },
 "nbformat": 4,
 "nbformat_minor": 5
}
