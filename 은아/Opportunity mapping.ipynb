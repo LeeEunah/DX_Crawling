{
 "cells": [
  {
   "cell_type": "code",
   "execution_count": 1,
   "id": "4d1fe175",
   "metadata": {},
   "outputs": [],
   "source": [
    "import pandas as pd"
   ]
  },
  {
   "cell_type": "markdown",
   "id": "80368d60",
   "metadata": {},
   "source": [
    "### 데이터 읽기(중요도/만족도 파일)"
   ]
  },
  {
   "cell_type": "code",
   "execution_count": null,
   "id": "e334ae8a",
   "metadata": {},
   "outputs": [],
   "source": [
    "# 중요도 df 읽기\n",
    "si= pd.read_csv('scaled_importance.csv') # 이미 스케일링 완료된 파일\n",
    "td = pd.read_csv('topictable.csv')"
   ]
  }
 ],
 "metadata": {
  "kernelspec": {
   "display_name": "Python 3 (ipykernel)",
   "language": "python",
   "name": "python3"
  },
  "language_info": {
   "codemirror_mode": {
    "name": "ipython",
    "version": 3
   },
   "file_extension": ".py",
   "mimetype": "text/x-python",
   "name": "python",
   "nbconvert_exporter": "python",
   "pygments_lexer": "ipython3",
   "version": "3.9.7"
  }
 },
 "nbformat": 4,
 "nbformat_minor": 5
}
