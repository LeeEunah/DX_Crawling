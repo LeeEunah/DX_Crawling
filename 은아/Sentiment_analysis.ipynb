{
 "cells": [
  {
   "cell_type": "code",
   "execution_count": 82,
   "id": "e161be68",
   "metadata": {},
   "outputs": [],
   "source": [
    "import pandas as pd \n",
    "from sklearn.model_selection import train_test_split\n",
    "import matplotlib.pyplot as plt\n",
    "import numpy as np"
   ]
  },
  {
   "cell_type": "markdown",
   "id": "e6a0aa7e",
   "metadata": {},
   "source": [
    "<b>* crawling_data/감성대화말뭉치_ver토큰최종_Training.csv</b>  \n",
    "- Text: 원문  \n",
    "- Label: 글의 대표적인 감정 라벨  \n",
    "- text_tokenized: sentence split, 형태소(n,v,a) 분리  \n",
    "- text_tokenized2: 불용어 처리"
   ]
  },
  {
   "cell_type": "code",
   "execution_count": 83,
   "id": "9b1af7cf",
   "metadata": {
    "scrolled": true
   },
   "outputs": [],
   "source": [
    "sa = pd.read_csv('./crawling_data/감성대화말뭉치_ver토큰최종_Training.csv', encoding='utf-8 sig') #미리 토큰화한 감성 문서 활용\n",
    "del sa['Unnamed: 0']"
   ]
  },
  {
   "cell_type": "code",
   "execution_count": 84,
   "id": "88eae1a5",
   "metadata": {},
   "outputs": [
    {
     "data": {
      "text/html": [
       "<div>\n",
       "<style scoped>\n",
       "    .dataframe tbody tr th:only-of-type {\n",
       "        vertical-align: middle;\n",
       "    }\n",
       "\n",
       "    .dataframe tbody tr th {\n",
       "        vertical-align: top;\n",
       "    }\n",
       "\n",
       "    .dataframe thead th {\n",
       "        text-align: right;\n",
       "    }\n",
       "</style>\n",
       "<table border=\"1\" class=\"dataframe\">\n",
       "  <thead>\n",
       "    <tr style=\"text-align: right;\">\n",
       "      <th></th>\n",
       "      <th>Text</th>\n",
       "      <th>Label</th>\n",
       "      <th>text_tokenized</th>\n",
       "      <th>text_tokenized2</th>\n",
       "    </tr>\n",
       "  </thead>\n",
       "  <tbody>\n",
       "    <tr>\n",
       "      <th>0</th>\n",
       "      <td>아내가 드디어 출산하게 되어서 정말 신이 나.</td>\n",
       "      <td>기쁨</td>\n",
       "      <td>['아내', '드디어', '출산', '하다', '되어다', '정말', '신', '나']</td>\n",
       "      <td>['아내', '드디어', '출산', '정말', '신']</td>\n",
       "    </tr>\n",
       "    <tr>\n",
       "      <th>1</th>\n",
       "      <td>당뇨랑 합병증 때문에 먹어야 할 약이 열 가지가 넘어가니까 스트레스야.</td>\n",
       "      <td>불안</td>\n",
       "      <td>['당뇨', '합병증', '때문', '먹다', '하다', '약', '열', '가지'...</td>\n",
       "      <td>['당뇨', '합병증', '때문', '먹다', '약', '열', '가지', '넘어가...</td>\n",
       "    </tr>\n",
       "    <tr>\n",
       "      <th>2</th>\n",
       "      <td>고등학교에 올라오니 중학교 때보다 수업이 갑자기 어려워져서 당황스러워.</td>\n",
       "      <td>당황</td>\n",
       "      <td>['고등학교', '올라오다', '중학교', '때', '수업', '갑자기', '어려워...</td>\n",
       "      <td>['고등학교', '올라오다', '중학교', '수업', '갑자기', '어려워지다', ...</td>\n",
       "    </tr>\n",
       "    <tr>\n",
       "      <th>3</th>\n",
       "      <td>재취업이 돼서 받게 된 첫 월급으로 온 가족이 외식을 할 예정이야. 너무 행복해.</td>\n",
       "      <td>기쁨</td>\n",
       "      <td>['재', '취업', '돼다', '받다', '되다', '첫', '월급', '온', ...</td>\n",
       "      <td>['취업', '받다', '첫', '월급', '가족', '외식', '예정', '행복하다']</td>\n",
       "    </tr>\n",
       "    <tr>\n",
       "      <th>4</th>\n",
       "      <td>빚을 드디어 다 갚게 되어서 이제야 안도감이 들어.</td>\n",
       "      <td>기쁨</td>\n",
       "      <td>['빚', '드디어', '다', '갚다', '되어다', '이제야', '안도', '감...</td>\n",
       "      <td>['빚', '드디어', '갚다', '이제야', '안도', '감', '들다']</td>\n",
       "    </tr>\n",
       "    <tr>\n",
       "      <th>...</th>\n",
       "      <td>...</td>\n",
       "      <td>...</td>\n",
       "      <td>...</td>\n",
       "      <td>...</td>\n",
       "    </tr>\n",
       "    <tr>\n",
       "      <th>40874</th>\n",
       "      <td>같이 사는 친구가 애완견을 데려왔는데 대부분 내가 돌보고 있어. 내가 주인인가 혼란...</td>\n",
       "      <td>불안</td>\n",
       "      <td>['같이', '살다', '친구', '애완견', '데려오다', '대부분', '내', ...</td>\n",
       "      <td>['살다', '친구', '애완견', '데려오다', '대부분', '돌보다', '주인'...</td>\n",
       "    </tr>\n",
       "    <tr>\n",
       "      <th>40875</th>\n",
       "      <td>지난주에 건강검진 결과가 나왔는데 정상이라고 결과가 나왔어.</td>\n",
       "      <td>기쁨</td>\n",
       "      <td>['지난주', '건강검진', '결과', '나오다', '정상', '결과', '나오다']</td>\n",
       "      <td>['지난주', '건강검진', '결과', '나오다', '정상', '결과', '나오다']</td>\n",
       "    </tr>\n",
       "    <tr>\n",
       "      <th>40876</th>\n",
       "      <td>엄마는 내 꿈인 작가를 응원해 주고는 했는데 지금은 안 그래. 너무 슬퍼.</td>\n",
       "      <td>슬픔</td>\n",
       "      <td>['엄마', '내', '꿈', '작가', '응원', '하다', '주다', '하다',...</td>\n",
       "      <td>['엄마', '꿈', '작가', '응원', '주다', '지금', '그렇다', '슬프다']</td>\n",
       "    </tr>\n",
       "    <tr>\n",
       "      <th>40877</th>\n",
       "      <td>이렇게 좋은 운동 시설에서 경로 우대로 운동할 수 있다니 참 행운이야.</td>\n",
       "      <td>기쁨</td>\n",
       "      <td>['이렇게', '좋다', '운동', '시설', '경로', '우대', '운동', '하...</td>\n",
       "      <td>['이렇게', '좋다', '운동', '시설', '경로', '우대', '운동', '차...</td>\n",
       "    </tr>\n",
       "    <tr>\n",
       "      <th>40878</th>\n",
       "      <td>친구 관계가 너무 힘들어. 베푸는 만큼 돌아오지 않는 것 같아.</td>\n",
       "      <td>불안</td>\n",
       "      <td>['친구', '관계', '너무', '힘들다', '베풀다', '만큼', '돌아오다',...</td>\n",
       "      <td>['친구', '관계', '힘들다', '베풀다', '돌아오다', '않다']</td>\n",
       "    </tr>\n",
       "  </tbody>\n",
       "</table>\n",
       "<p>40879 rows × 4 columns</p>\n",
       "</div>"
      ],
      "text/plain": [
       "                                                    Text Label  \\\n",
       "0                              아내가 드디어 출산하게 되어서 정말 신이 나.    기쁨   \n",
       "1                당뇨랑 합병증 때문에 먹어야 할 약이 열 가지가 넘어가니까 스트레스야.    불안   \n",
       "2                고등학교에 올라오니 중학교 때보다 수업이 갑자기 어려워져서 당황스러워.    당황   \n",
       "3          재취업이 돼서 받게 된 첫 월급으로 온 가족이 외식을 할 예정이야. 너무 행복해.    기쁨   \n",
       "4                           빚을 드디어 다 갚게 되어서 이제야 안도감이 들어.    기쁨   \n",
       "...                                                  ...   ...   \n",
       "40874  같이 사는 친구가 애완견을 데려왔는데 대부분 내가 돌보고 있어. 내가 주인인가 혼란...    불안   \n",
       "40875                  지난주에 건강검진 결과가 나왔는데 정상이라고 결과가 나왔어.    기쁨   \n",
       "40876          엄마는 내 꿈인 작가를 응원해 주고는 했는데 지금은 안 그래. 너무 슬퍼.    슬픔   \n",
       "40877            이렇게 좋은 운동 시설에서 경로 우대로 운동할 수 있다니 참 행운이야.    기쁨   \n",
       "40878                친구 관계가 너무 힘들어. 베푸는 만큼 돌아오지 않는 것 같아.    불안   \n",
       "\n",
       "                                          text_tokenized  \\\n",
       "0       ['아내', '드디어', '출산', '하다', '되어다', '정말', '신', '나']   \n",
       "1      ['당뇨', '합병증', '때문', '먹다', '하다', '약', '열', '가지'...   \n",
       "2      ['고등학교', '올라오다', '중학교', '때', '수업', '갑자기', '어려워...   \n",
       "3      ['재', '취업', '돼다', '받다', '되다', '첫', '월급', '온', ...   \n",
       "4      ['빚', '드디어', '다', '갚다', '되어다', '이제야', '안도', '감...   \n",
       "...                                                  ...   \n",
       "40874  ['같이', '살다', '친구', '애완견', '데려오다', '대부분', '내', ...   \n",
       "40875    ['지난주', '건강검진', '결과', '나오다', '정상', '결과', '나오다']   \n",
       "40876  ['엄마', '내', '꿈', '작가', '응원', '하다', '주다', '하다',...   \n",
       "40877  ['이렇게', '좋다', '운동', '시설', '경로', '우대', '운동', '하...   \n",
       "40878  ['친구', '관계', '너무', '힘들다', '베풀다', '만큼', '돌아오다',...   \n",
       "\n",
       "                                         text_tokenized2  \n",
       "0                         ['아내', '드디어', '출산', '정말', '신']  \n",
       "1      ['당뇨', '합병증', '때문', '먹다', '약', '열', '가지', '넘어가...  \n",
       "2      ['고등학교', '올라오다', '중학교', '수업', '갑자기', '어려워지다', ...  \n",
       "3      ['취업', '받다', '첫', '월급', '가족', '외식', '예정', '행복하다']  \n",
       "4             ['빚', '드디어', '갚다', '이제야', '안도', '감', '들다']  \n",
       "...                                                  ...  \n",
       "40874  ['살다', '친구', '애완견', '데려오다', '대부분', '돌보다', '주인'...  \n",
       "40875    ['지난주', '건강검진', '결과', '나오다', '정상', '결과', '나오다']  \n",
       "40876  ['엄마', '꿈', '작가', '응원', '주다', '지금', '그렇다', '슬프다']  \n",
       "40877  ['이렇게', '좋다', '운동', '시설', '경로', '우대', '운동', '차...  \n",
       "40878           ['친구', '관계', '힘들다', '베풀다', '돌아오다', '않다']  \n",
       "\n",
       "[40879 rows x 4 columns]"
      ]
     },
     "execution_count": 84,
     "metadata": {},
     "output_type": "execute_result"
    }
   ],
   "source": [
    "sa"
   ]
  },
  {
   "cell_type": "markdown",
   "id": "e0e928ee",
   "metadata": {},
   "source": [
    "### 감성문서 텍스트 추가 전처리  \n",
    "* 감정_대분류:  \n",
    "1 = 기쁨  \n",
    "0 = 불안, 슬픔, 분노, 상처, 불안  \n",
    "당황은 제거  \n",
    "\n",
    "\n",
    "<참고> 네이버 쇼핑 리뷰 감성 분류하기 https://wikidocs.net/94600"
   ]
  },
  {
   "cell_type": "code",
   "execution_count": 85,
   "id": "62b00ab0",
   "metadata": {},
   "outputs": [
    {
     "data": {
      "text/plain": [
       "array(['기쁨', '불안', '당황', '슬픔', '분노', '상처', '불안 ', '기쁨 '], dtype=object)"
      ]
     },
     "execution_count": 85,
     "metadata": {},
     "output_type": "execute_result"
    }
   ],
   "source": [
    "sa['Label'].unique()"
   ]
  },
  {
   "cell_type": "code",
   "execution_count": 86,
   "id": "24f0987e",
   "metadata": {},
   "outputs": [],
   "source": [
    "sa = sa[sa.Label != '당황']"
   ]
  },
  {
   "cell_type": "code",
   "execution_count": 87,
   "id": "d655cb7a",
   "metadata": {},
   "outputs": [
    {
     "name": "stderr",
     "output_type": "stream",
     "text": [
      "C:\\Users\\eunah.lee\\AppData\\Local\\Temp/ipykernel_23104/3765721047.py:1: SettingWithCopyWarning: \n",
      "A value is trying to be set on a copy of a slice from a DataFrame.\n",
      "Try using .loc[row_indexer,col_indexer] = value instead\n",
      "\n",
      "See the caveats in the documentation: https://pandas.pydata.org/pandas-docs/stable/user_guide/indexing.html#returning-a-view-versus-a-copy\n",
      "  sa['bi_sent'] = 0\n",
      "C:\\Users\\eunah.lee\\AppData\\Local\\Temp/ipykernel_23104/3765721047.py:2: SettingWithCopyWarning: \n",
      "A value is trying to be set on a copy of a slice from a DataFrame\n",
      "\n",
      "See the caveats in the documentation: https://pandas.pydata.org/pandas-docs/stable/user_guide/indexing.html#returning-a-view-versus-a-copy\n",
      "  sa['bi_sent'][(sa['Label'] == '기쁨')] = 1\n",
      "C:\\Users\\eunah.lee\\Anaconda3\\lib\\site-packages\\pandas\\core\\generic.py:8870: SettingWithCopyWarning: \n",
      "A value is trying to be set on a copy of a slice from a DataFrame\n",
      "\n",
      "See the caveats in the documentation: https://pandas.pydata.org/pandas-docs/stable/user_guide/indexing.html#returning-a-view-versus-a-copy\n",
      "  return self._update_inplace(result)\n"
     ]
    }
   ],
   "source": [
    "sa['bi_sent'] = 0\n",
    "sa['bi_sent'][(sa['Label'] == '기쁨')] = 1"
   ]
  },
  {
   "cell_type": "code",
   "execution_count": 88,
   "id": "f221d3a1",
   "metadata": {},
   "outputs": [
    {
     "data": {
      "text/html": [
       "<div>\n",
       "<style scoped>\n",
       "    .dataframe tbody tr th:only-of-type {\n",
       "        vertical-align: middle;\n",
       "    }\n",
       "\n",
       "    .dataframe tbody tr th {\n",
       "        vertical-align: top;\n",
       "    }\n",
       "\n",
       "    .dataframe thead th {\n",
       "        text-align: right;\n",
       "    }\n",
       "</style>\n",
       "<table border=\"1\" class=\"dataframe\">\n",
       "  <thead>\n",
       "    <tr style=\"text-align: right;\">\n",
       "      <th></th>\n",
       "      <th>Text</th>\n",
       "      <th>Label</th>\n",
       "      <th>text_tokenized</th>\n",
       "      <th>text_tokenized2</th>\n",
       "      <th>bi_sent</th>\n",
       "    </tr>\n",
       "  </thead>\n",
       "  <tbody>\n",
       "    <tr>\n",
       "      <th>1</th>\n",
       "      <td>당뇨랑 합병증 때문에 먹어야 할 약이 열 가지가 넘어가니까 스트레스야.</td>\n",
       "      <td>불안</td>\n",
       "      <td>['당뇨', '합병증', '때문', '먹다', '하다', '약', '열', '가지'...</td>\n",
       "      <td>['당뇨', '합병증', '때문', '먹다', '약', '열', '가지', '넘어가...</td>\n",
       "      <td>0</td>\n",
       "    </tr>\n",
       "    <tr>\n",
       "      <th>5</th>\n",
       "      <td>이제 곧 은퇴할 시기가 되었어. 내가 먼저 은퇴를 하고 육 개월 후에 남편도 은퇴를...</td>\n",
       "      <td>불안</td>\n",
       "      <td>['이제', '곧', '은퇴', '하다', '시기', '되어다', '내', '먼저'...</td>\n",
       "      <td>['이제', '은퇴', '시기', '먼저', '은퇴', '개월', '남편', '은퇴...</td>\n",
       "      <td>0</td>\n",
       "    </tr>\n",
       "    <tr>\n",
       "      <th>6</th>\n",
       "      <td>사십 대에 접어들면서 머리카락이 많이 빠져 고민이야.</td>\n",
       "      <td>슬픔</td>\n",
       "      <td>['사다', '대다', '접다', '들다', '머리카락', '많이', '빠지다', ...</td>\n",
       "      <td>['사다', '대다', '접다', '들다', '머리카락', '많이', '빠지다', ...</td>\n",
       "      <td>0</td>\n",
       "    </tr>\n",
       "    <tr>\n",
       "      <th>7</th>\n",
       "      <td>이제 돈이라면 지긋지긋해.</td>\n",
       "      <td>분노</td>\n",
       "      <td>['이제', '돈', '라면', '지긋지긋하다']</td>\n",
       "      <td>['이제', '돈', '라면', '지긋지긋하다']</td>\n",
       "      <td>0</td>\n",
       "    </tr>\n",
       "    <tr>\n",
       "      <th>8</th>\n",
       "      <td>친구들이 나를 괴롭혀. 부모님과 선생님께 얘기했는데도 믿어주지 않아.</td>\n",
       "      <td>분노</td>\n",
       "      <td>['친구', '나르다', '괴롭히다', '부모님', '선생님', '얘기', '하다'...</td>\n",
       "      <td>['친구', '나르다', '괴롭히다', '부모님', '선생님', '얘기', '믿다'...</td>\n",
       "      <td>0</td>\n",
       "    </tr>\n",
       "    <tr>\n",
       "      <th>...</th>\n",
       "      <td>...</td>\n",
       "      <td>...</td>\n",
       "      <td>...</td>\n",
       "      <td>...</td>\n",
       "      <td>...</td>\n",
       "    </tr>\n",
       "    <tr>\n",
       "      <th>40872</th>\n",
       "      <td>오늘 식당에서 서빙을 하는데 젊은 청년들이 반말하길래 기분이 나빠 나도 반말을 하며...</td>\n",
       "      <td>분노</td>\n",
       "      <td>['오늘', '식당', '서빙', '하다', '젊다', '청년', '반말', '하다...</td>\n",
       "      <td>['오늘', '식당', '서빙', '젊다', '청년', '반말', '기분', '나쁘...</td>\n",
       "      <td>0</td>\n",
       "    </tr>\n",
       "    <tr>\n",
       "      <th>40873</th>\n",
       "      <td>최 영감이 노인들에게 나를 이상한 사람으로 이야기해서 답답하고 억울해.</td>\n",
       "      <td>상처</td>\n",
       "      <td>['최', '영감', '노인', '나르다', '이상하다', '사람', '이야기', ...</td>\n",
       "      <td>['최', '영감', '노인', '나르다', '이상하다', '사람', '이야기', ...</td>\n",
       "      <td>0</td>\n",
       "    </tr>\n",
       "    <tr>\n",
       "      <th>40874</th>\n",
       "      <td>같이 사는 친구가 애완견을 데려왔는데 대부분 내가 돌보고 있어. 내가 주인인가 혼란...</td>\n",
       "      <td>불안</td>\n",
       "      <td>['같이', '살다', '친구', '애완견', '데려오다', '대부분', '내', ...</td>\n",
       "      <td>['살다', '친구', '애완견', '데려오다', '대부분', '돌보다', '주인'...</td>\n",
       "      <td>0</td>\n",
       "    </tr>\n",
       "    <tr>\n",
       "      <th>40876</th>\n",
       "      <td>엄마는 내 꿈인 작가를 응원해 주고는 했는데 지금은 안 그래. 너무 슬퍼.</td>\n",
       "      <td>슬픔</td>\n",
       "      <td>['엄마', '내', '꿈', '작가', '응원', '하다', '주다', '하다',...</td>\n",
       "      <td>['엄마', '꿈', '작가', '응원', '주다', '지금', '그렇다', '슬프다']</td>\n",
       "      <td>0</td>\n",
       "    </tr>\n",
       "    <tr>\n",
       "      <th>40878</th>\n",
       "      <td>친구 관계가 너무 힘들어. 베푸는 만큼 돌아오지 않는 것 같아.</td>\n",
       "      <td>불안</td>\n",
       "      <td>['친구', '관계', '너무', '힘들다', '베풀다', '만큼', '돌아오다',...</td>\n",
       "      <td>['친구', '관계', '힘들다', '베풀다', '돌아오다', '않다']</td>\n",
       "      <td>0</td>\n",
       "    </tr>\n",
       "  </tbody>\n",
       "</table>\n",
       "<p>27789 rows × 5 columns</p>\n",
       "</div>"
      ],
      "text/plain": [
       "                                                    Text Label  \\\n",
       "1                당뇨랑 합병증 때문에 먹어야 할 약이 열 가지가 넘어가니까 스트레스야.    불안   \n",
       "5      이제 곧 은퇴할 시기가 되었어. 내가 먼저 은퇴를 하고 육 개월 후에 남편도 은퇴를...    불안   \n",
       "6                          사십 대에 접어들면서 머리카락이 많이 빠져 고민이야.    슬픔   \n",
       "7                                         이제 돈이라면 지긋지긋해.    분노   \n",
       "8                 친구들이 나를 괴롭혀. 부모님과 선생님께 얘기했는데도 믿어주지 않아.    분노   \n",
       "...                                                  ...   ...   \n",
       "40872  오늘 식당에서 서빙을 하는데 젊은 청년들이 반말하길래 기분이 나빠 나도 반말을 하며...    분노   \n",
       "40873            최 영감이 노인들에게 나를 이상한 사람으로 이야기해서 답답하고 억울해.    상처   \n",
       "40874  같이 사는 친구가 애완견을 데려왔는데 대부분 내가 돌보고 있어. 내가 주인인가 혼란...    불안   \n",
       "40876          엄마는 내 꿈인 작가를 응원해 주고는 했는데 지금은 안 그래. 너무 슬퍼.    슬픔   \n",
       "40878                친구 관계가 너무 힘들어. 베푸는 만큼 돌아오지 않는 것 같아.    불안   \n",
       "\n",
       "                                          text_tokenized  \\\n",
       "1      ['당뇨', '합병증', '때문', '먹다', '하다', '약', '열', '가지'...   \n",
       "5      ['이제', '곧', '은퇴', '하다', '시기', '되어다', '내', '먼저'...   \n",
       "6      ['사다', '대다', '접다', '들다', '머리카락', '많이', '빠지다', ...   \n",
       "7                            ['이제', '돈', '라면', '지긋지긋하다']   \n",
       "8      ['친구', '나르다', '괴롭히다', '부모님', '선생님', '얘기', '하다'...   \n",
       "...                                                  ...   \n",
       "40872  ['오늘', '식당', '서빙', '하다', '젊다', '청년', '반말', '하다...   \n",
       "40873  ['최', '영감', '노인', '나르다', '이상하다', '사람', '이야기', ...   \n",
       "40874  ['같이', '살다', '친구', '애완견', '데려오다', '대부분', '내', ...   \n",
       "40876  ['엄마', '내', '꿈', '작가', '응원', '하다', '주다', '하다',...   \n",
       "40878  ['친구', '관계', '너무', '힘들다', '베풀다', '만큼', '돌아오다',...   \n",
       "\n",
       "                                         text_tokenized2  bi_sent  \n",
       "1      ['당뇨', '합병증', '때문', '먹다', '약', '열', '가지', '넘어가...        0  \n",
       "5      ['이제', '은퇴', '시기', '먼저', '은퇴', '개월', '남편', '은퇴...        0  \n",
       "6      ['사다', '대다', '접다', '들다', '머리카락', '많이', '빠지다', ...        0  \n",
       "7                            ['이제', '돈', '라면', '지긋지긋하다']        0  \n",
       "8      ['친구', '나르다', '괴롭히다', '부모님', '선생님', '얘기', '믿다'...        0  \n",
       "...                                                  ...      ...  \n",
       "40872  ['오늘', '식당', '서빙', '젊다', '청년', '반말', '기분', '나쁘...        0  \n",
       "40873  ['최', '영감', '노인', '나르다', '이상하다', '사람', '이야기', ...        0  \n",
       "40874  ['살다', '친구', '애완견', '데려오다', '대부분', '돌보다', '주인'...        0  \n",
       "40876  ['엄마', '꿈', '작가', '응원', '주다', '지금', '그렇다', '슬프다']        0  \n",
       "40878           ['친구', '관계', '힘들다', '베풀다', '돌아오다', '않다']        0  \n",
       "\n",
       "[27789 rows x 5 columns]"
      ]
     },
     "execution_count": 88,
     "metadata": {},
     "output_type": "execute_result"
    }
   ],
   "source": [
    "sa[(sa['bi_sent']==1)] # 6,730\n",
    "sa[(sa['bi_sent']==0)] # 27,789"
   ]
  },
  {
   "cell_type": "code",
   "execution_count": 89,
   "id": "9b316e93",
   "metadata": {},
   "outputs": [],
   "source": [
    "ssa = sa[['text_tokenized2','bi_sent']]\n",
    "X = ssa['text_tokenized2']\n",
    "y = ssa['bi_sent']"
   ]
  },
  {
   "cell_type": "code",
   "execution_count": 90,
   "id": "e574757c",
   "metadata": {},
   "outputs": [],
   "source": [
    "train_data, test_data = train_test_split(ssa, test_size = 0.25, shuffle=True,  random_state = 42)"
   ]
  },
  {
   "cell_type": "code",
   "execution_count": 91,
   "id": "11d654a6",
   "metadata": {},
   "outputs": [
    {
     "name": "stdout",
     "output_type": "stream",
     "text": [
      "훈련용 리뷰의 개수 : 25889\n",
      "테스트용 리뷰의 개수 : 8630\n",
      "   bi_sent  count\n",
      "0        0  20853\n",
      "1        1   5036\n"
     ]
    }
   ],
   "source": [
    "print('훈련용 리뷰의 개수 :', len(train_data))\n",
    "print('테스트용 리뷰의 개수 :', len(test_data))\n",
    "print(train_data.groupby('bi_sent').size().reset_index(name = 'count'))"
   ]
  },
  {
   "cell_type": "code",
   "execution_count": 92,
   "id": "94ea3633",
   "metadata": {},
   "outputs": [
    {
     "data": {
      "text/html": [
       "<div>\n",
       "<style scoped>\n",
       "    .dataframe tbody tr th:only-of-type {\n",
       "        vertical-align: middle;\n",
       "    }\n",
       "\n",
       "    .dataframe tbody tr th {\n",
       "        vertical-align: top;\n",
       "    }\n",
       "\n",
       "    .dataframe thead th {\n",
       "        text-align: right;\n",
       "    }\n",
       "</style>\n",
       "<table border=\"1\" class=\"dataframe\">\n",
       "  <thead>\n",
       "    <tr style=\"text-align: right;\">\n",
       "      <th></th>\n",
       "      <th>text_tokenized2</th>\n",
       "      <th>bi_sent</th>\n",
       "    </tr>\n",
       "  </thead>\n",
       "  <tbody>\n",
       "    <tr>\n",
       "      <th>18419</th>\n",
       "      <td>['친구', '승진', '축하', '속이다', '쓰리다']</td>\n",
       "      <td>0</td>\n",
       "    </tr>\n",
       "    <tr>\n",
       "      <th>11266</th>\n",
       "      <td>['동호회', '대회', '일등', '컨디션', '좋다']</td>\n",
       "      <td>1</td>\n",
       "    </tr>\n",
       "    <tr>\n",
       "      <th>6847</th>\n",
       "      <td>['벌써', '은퇴', '걱정', '나이', '슬프다']</td>\n",
       "      <td>0</td>\n",
       "    </tr>\n",
       "    <tr>\n",
       "      <th>8164</th>\n",
       "      <td>['열심히', '공부', '성적', '떨어지다', '낙담하다']</td>\n",
       "      <td>0</td>\n",
       "    </tr>\n",
       "    <tr>\n",
       "      <th>16021</th>\n",
       "      <td>['내일', '검진', '결과', '나오다', '나쁘다', '나오다', '보다', ...</td>\n",
       "      <td>0</td>\n",
       "    </tr>\n",
       "    <tr>\n",
       "      <th>...</th>\n",
       "      <td>...</td>\n",
       "      <td>...</td>\n",
       "    </tr>\n",
       "    <tr>\n",
       "      <th>19948</th>\n",
       "      <td>['신부전증', '치료', '비다', '믿다', '맡기다', '배신', '당하다']</td>\n",
       "      <td>0</td>\n",
       "    </tr>\n",
       "    <tr>\n",
       "      <th>7392</th>\n",
       "      <td>['의사', '생각', '간경변증', '빠르다', '진행', '말', '우울하다']</td>\n",
       "      <td>0</td>\n",
       "    </tr>\n",
       "    <tr>\n",
       "      <th>13345</th>\n",
       "      <td>['맡다', '프로젝트', '까다롭다', '팀원', '자다', '해내다', '믿다']</td>\n",
       "      <td>1</td>\n",
       "    </tr>\n",
       "    <tr>\n",
       "      <th>1026</th>\n",
       "      <td>['진로', '대해', '자다', '알다', '불구', '성적', '때문', '진학...</td>\n",
       "      <td>0</td>\n",
       "    </tr>\n",
       "    <tr>\n",
       "      <th>18698</th>\n",
       "      <td>['모임', '놀다', '늦다', '들어오다', '남편', '캐', '물어', '화가']</td>\n",
       "      <td>0</td>\n",
       "    </tr>\n",
       "  </tbody>\n",
       "</table>\n",
       "<p>25889 rows × 2 columns</p>\n",
       "</div>"
      ],
      "text/plain": [
       "                                         text_tokenized2  bi_sent\n",
       "18419                   ['친구', '승진', '축하', '속이다', '쓰리다']        0\n",
       "11266                   ['동호회', '대회', '일등', '컨디션', '좋다']        1\n",
       "6847                     ['벌써', '은퇴', '걱정', '나이', '슬프다']        0\n",
       "8164                 ['열심히', '공부', '성적', '떨어지다', '낙담하다']        0\n",
       "16021  ['내일', '검진', '결과', '나오다', '나쁘다', '나오다', '보다', ...        0\n",
       "...                                                  ...      ...\n",
       "19948     ['신부전증', '치료', '비다', '믿다', '맡기다', '배신', '당하다']        0\n",
       "7392      ['의사', '생각', '간경변증', '빠르다', '진행', '말', '우울하다']        0\n",
       "13345    ['맡다', '프로젝트', '까다롭다', '팀원', '자다', '해내다', '믿다']        1\n",
       "1026   ['진로', '대해', '자다', '알다', '불구', '성적', '때문', '진학...        0\n",
       "18698  ['모임', '놀다', '늦다', '들어오다', '남편', '캐', '물어', '화가']        0\n",
       "\n",
       "[25889 rows x 2 columns]"
      ]
     },
     "execution_count": 92,
     "metadata": {},
     "output_type": "execute_result"
    }
   ],
   "source": [
    "train_data"
   ]
  },
  {
   "cell_type": "markdown",
   "id": "9d7da9f7",
   "metadata": {},
   "source": [
    "### 훈련데이터의 레이블 분포 확인"
   ]
  },
  {
   "cell_type": "code",
   "execution_count": 93,
   "id": "ea9d0b8d",
   "metadata": {},
   "outputs": [],
   "source": [
    "negative_words = np.hstack(train_data[train_data.bi_sent == 0]['text_tokenized2'].values)\n",
    "positive_words = np.hstack(train_data[train_data.bi_sent == 1]['text_tokenized2'].values)"
   ]
  },
  {
   "cell_type": "code",
   "execution_count": 94,
   "id": "1b937021",
   "metadata": {},
   "outputs": [
    {
     "name": "stdout",
     "output_type": "stream",
     "text": [
      "부정 리뷰에서 빈도수가 높은 Top 20 단어\n",
      "[(\"['취업']\", 9), (\"['슬프다']\", 5), ('[]', 5), (\"['요즘', '힘들다']\", 4), (\"['오늘', '기분', '좋다']\", 4), (\"['요즘', '걱정']\", 4), (\"['속상하다']\", 4), (\"['은퇴', '질환', '몸', '아프다']\", 4), (\"['가족', '생각', '짜증']\", 4), (\"['실망하다']\", 4), (\"['요즘', '혼란', '스럽다']\", 4), (\"['일만', '아니다', '원하다', '대학', '가다']\", 3), (\"['친구', '따돌림', '당하다', '그냥', '방관', '괴롭다', '죽다']\", 3), (\"['병원', '다녀오다', '남편', '감시', '속', '살', '진짜', '귀찮다']\", 3), (\"['요즘', '슬프다']\", 3), (\"['집', '남편', '옆집', '할머니', '예쁘다', '대놓고', '얘기', '상처', '받다']\", 3), (\"['힘들다']\", 3), (\"['남편', '때문', '화가']\", 3), (\"['어떻다', '이렇다']\", 3), (\"['일해', '돈', '모이다', '않다']\", 3)]\n",
      "\n",
      "긍정 리뷰에서 빈도수가 높은 Top 20 단어\n",
      "[(\"['기분', '좋다']\", 4), (\"['요즘', '행복하다']\", 4), (\"['업무', '자다', '불평', '직원', '퇴사', '기분', '상쾌하다']\", 3), (\"['요즘', '기분', '좋다']\", 3), (\"['오늘', '경찰서', '연락', '받다', '돈', '훔치다', '간', '도둑', '잡다']\", 3), (\"['젊다', '어서', '건강', '식품', '꾸준하다', '챙기다', '먹다', '건강']\", 3), (\"['친구', '제주도', '놀다', '가다', '엄마', '흔쾌하다', '허락', '주다', '기쁘다']\", 3), (\"['집도', '연금', '나오다']\", 3), (\"['주변', '사람', '신뢰']\", 3), (\"['재정', '상태', '믿다']\", 3), (\"['회사', '상사', '퇴근', '퇴근', '회사', '그렇다', '않다', '좋다']\", 3), (\"['오늘', '첫', '출근']\", 3), (\"['승진']\", 3), (\"['결혼', '알다', '딸', '좋다', '사람', '만나다', '결혼', '정말', '안심']\", 3), (\"['오늘', '옆집', '할멈', '오백만', '건네주다', '오다', '스스로', '자랑스럽다']\", 2), (\"['양가', '부모님', '결혼', '비용', '많다', '도움', '주다', '든든하다']\", 2), (\"['회사', '사람', '자다', '맞다', '차다', '감사하다', '일인']\", 2), (\"['시험', '준비', '시작', '부모님', '정말', '감사', '드리다']\", 2), (\"['로또', '당첨']\", 2), (\"['부모님', '당분간', '집', '계시다', '친구', '부르다', '신나다']\", 2)]\n"
     ]
    }
   ],
   "source": [
    "from collections import Counter\n",
    "\n",
    "negative_word_count = Counter(negative_words)\n",
    "print(\"부정 리뷰에서 빈도수가 높은 Top 20 단어\")\n",
    "print(negative_word_count.most_common(20))\n",
    "print()\n",
    "print(\"긍정 리뷰에서 빈도수가 높은 Top 20 단어\")\n",
    "positive_word_count = Counter(positive_words)\n",
    "print(positive_word_count.most_common(20))"
   ]
  },
  {
   "cell_type": "code",
   "execution_count": 95,
   "id": "1ba77f36",
   "metadata": {},
   "outputs": [
    {
     "name": "stdout",
     "output_type": "stream",
     "text": [
      "긍정 리뷰의 평균 길이 : 42.44956314535346\n",
      "부정 리뷰의 평균 길이 : 43.496427372560305\n"
     ]
    },
    {
     "data": {
      "image/png": "[encoded data removed]",
      "text/plain": [
       "<Figure size 720x360 with 2 Axes>"
      ]
     },
     "metadata": {
      "needs_background": "light"
     },
     "output_type": "display_data"
    }
   ],
   "source": [
    "fig,(ax1,ax2) = plt.subplots(1,2,figsize=(10,5))\n",
    "text_len = train_data[train_data['bi_sent']==1]['text_tokenized2'].map(lambda x: len(x))\n",
    "ax1.hist(text_len, color='red')\n",
    "ax1.set_title('Positive Reviews')\n",
    "ax1.set_xlabel('length of samples')\n",
    "ax1.set_ylabel('number of samples')\n",
    "print('긍정 리뷰의 평균 길이 :', np.mean(text_len))\n",
    "\n",
    "text_len = train_data[train_data['bi_sent']==0]['text_tokenized2'].map(lambda x: len(x))\n",
    "ax2.hist(text_len, color='blue')\n",
    "ax2.set_title('Negative Reviews')\n",
    "fig.suptitle('Words in texts')\n",
    "ax2.set_xlabel('length of samples')\n",
    "ax2.set_ylabel('number of samples')\n",
    "print('부정 리뷰의 평균 길이 :', np.mean(text_len))\n",
    "plt.show()"
   ]
  },
  {
   "cell_type": "markdown",
   "id": "8df44709",
   "metadata": {},
   "source": [
    "* <b>단어 임베딩</b>: 단어의 의미에 대한 무언가를 포착하는 단어의 조밀한 벡터 표현을 제공하는 접근 방식  \n",
    "* <b>Gensim</b>: 주제 모델링에 중점을 둔 자연어 처리를 위한 라이브러리 (자연어 → 벡터)  \n",
    "* <b>Word2vec</b>: 텍스트 말뭉치에서 단어 임베딩을 학습하는 하나의 알고리즘"
   ]
  },
  {
   "cell_type": "code",
   "execution_count": 96,
   "id": "fe7fe055",
   "metadata": {},
   "outputs": [],
   "source": [
    "df = pd.read_csv('./crawling_data/apple_thinq_processing2.csv')\n",
    "a = df['content_n']\n",
    "\n",
    "aa = []\n",
    "for i in range(len(a)):\n",
    "    aa.append(eval(a[i]))"
   ]
  },
  {
   "cell_type": "code",
   "execution_count": 97,
   "id": "cef1e890",
   "metadata": {},
   "outputs": [],
   "source": [
    "import gensim\n",
    "from gensim.models import Word2Vec, FastText\n",
    "\n",
    "model = Word2Vec(aa, min_count=1, vector_size=300)"
   ]
  },
  {
   "cell_type": "code",
   "execution_count": 98,
   "id": "1492f5a8",
   "metadata": {},
   "outputs": [
    {
     "data": {
      "text/html": [
       "<div>\n",
       "<style scoped>\n",
       "    .dataframe tbody tr th:only-of-type {\n",
       "        vertical-align: middle;\n",
       "    }\n",
       "\n",
       "    .dataframe tbody tr th {\n",
       "        vertical-align: top;\n",
       "    }\n",
       "\n",
       "    .dataframe thead th {\n",
       "        text-align: right;\n",
       "    }\n",
       "</style>\n",
       "<table border=\"1\" class=\"dataframe\">\n",
       "  <thead>\n",
       "    <tr style=\"text-align: right;\">\n",
       "      <th></th>\n",
       "      <th>text_tokenized2</th>\n",
       "      <th>bi_sent</th>\n",
       "    </tr>\n",
       "  </thead>\n",
       "  <tbody>\n",
       "    <tr>\n",
       "      <th>0</th>\n",
       "      <td>['친구', '승진', '축하', '속이다', '쓰리다']</td>\n",
       "      <td>0</td>\n",
       "    </tr>\n",
       "    <tr>\n",
       "      <th>1</th>\n",
       "      <td>['동호회', '대회', '일등', '컨디션', '좋다']</td>\n",
       "      <td>1</td>\n",
       "    </tr>\n",
       "    <tr>\n",
       "      <th>2</th>\n",
       "      <td>['벌써', '은퇴', '걱정', '나이', '슬프다']</td>\n",
       "      <td>0</td>\n",
       "    </tr>\n",
       "    <tr>\n",
       "      <th>3</th>\n",
       "      <td>['열심히', '공부', '성적', '떨어지다', '낙담하다']</td>\n",
       "      <td>0</td>\n",
       "    </tr>\n",
       "    <tr>\n",
       "      <th>4</th>\n",
       "      <td>['내일', '검진', '결과', '나오다', '나쁘다', '나오다', '보다', ...</td>\n",
       "      <td>0</td>\n",
       "    </tr>\n",
       "    <tr>\n",
       "      <th>...</th>\n",
       "      <td>...</td>\n",
       "      <td>...</td>\n",
       "    </tr>\n",
       "    <tr>\n",
       "      <th>25884</th>\n",
       "      <td>['신부전증', '치료', '비다', '믿다', '맡기다', '배신', '당하다']</td>\n",
       "      <td>0</td>\n",
       "    </tr>\n",
       "    <tr>\n",
       "      <th>25885</th>\n",
       "      <td>['의사', '생각', '간경변증', '빠르다', '진행', '말', '우울하다']</td>\n",
       "      <td>0</td>\n",
       "    </tr>\n",
       "    <tr>\n",
       "      <th>25886</th>\n",
       "      <td>['맡다', '프로젝트', '까다롭다', '팀원', '자다', '해내다', '믿다']</td>\n",
       "      <td>1</td>\n",
       "    </tr>\n",
       "    <tr>\n",
       "      <th>25887</th>\n",
       "      <td>['진로', '대해', '자다', '알다', '불구', '성적', '때문', '진학...</td>\n",
       "      <td>0</td>\n",
       "    </tr>\n",
       "    <tr>\n",
       "      <th>25888</th>\n",
       "      <td>['모임', '놀다', '늦다', '들어오다', '남편', '캐', '물어', '화가']</td>\n",
       "      <td>0</td>\n",
       "    </tr>\n",
       "  </tbody>\n",
       "</table>\n",
       "<p>25889 rows × 2 columns</p>\n",
       "</div>"
      ],
      "text/plain": [
       "                                         text_tokenized2  bi_sent\n",
       "0                       ['친구', '승진', '축하', '속이다', '쓰리다']        0\n",
       "1                       ['동호회', '대회', '일등', '컨디션', '좋다']        1\n",
       "2                        ['벌써', '은퇴', '걱정', '나이', '슬프다']        0\n",
       "3                    ['열심히', '공부', '성적', '떨어지다', '낙담하다']        0\n",
       "4      ['내일', '검진', '결과', '나오다', '나쁘다', '나오다', '보다', ...        0\n",
       "...                                                  ...      ...\n",
       "25884     ['신부전증', '치료', '비다', '믿다', '맡기다', '배신', '당하다']        0\n",
       "25885     ['의사', '생각', '간경변증', '빠르다', '진행', '말', '우울하다']        0\n",
       "25886    ['맡다', '프로젝트', '까다롭다', '팀원', '자다', '해내다', '믿다']        1\n",
       "25887  ['진로', '대해', '자다', '알다', '불구', '성적', '때문', '진학...        0\n",
       "25888  ['모임', '놀다', '늦다', '들어오다', '남편', '캐', '물어', '화가']        0\n",
       "\n",
       "[25889 rows x 2 columns]"
      ]
     },
     "execution_count": 98,
     "metadata": {},
     "output_type": "execute_result"
    }
   ],
   "source": [
    "train_data = train_data.reset_index()\n",
    "train_data = train_data.drop(columns = [\"index\"])\n",
    "train_data"
   ]
  },
  {
   "cell_type": "code",
   "execution_count": 99,
   "id": "136b29b6",
   "metadata": {},
   "outputs": [],
   "source": [
    "a= train_data['text_tokenized2']"
   ]
  },
  {
   "cell_type": "code",
   "execution_count": 100,
   "id": "f2610ab7",
   "metadata": {},
   "outputs": [
    {
     "data": {
      "text/plain": [
       "0                         ['친구', '승진', '축하', '속이다', '쓰리다']\n",
       "1                         ['동호회', '대회', '일등', '컨디션', '좋다']\n",
       "2                          ['벌써', '은퇴', '걱정', '나이', '슬프다']\n",
       "3                      ['열심히', '공부', '성적', '떨어지다', '낙담하다']\n",
       "4        ['내일', '검진', '결과', '나오다', '나쁘다', '나오다', '보다', ...\n",
       "                               ...                        \n",
       "25884       ['신부전증', '치료', '비다', '믿다', '맡기다', '배신', '당하다']\n",
       "25885       ['의사', '생각', '간경변증', '빠르다', '진행', '말', '우울하다']\n",
       "25886      ['맡다', '프로젝트', '까다롭다', '팀원', '자다', '해내다', '믿다']\n",
       "25887    ['진로', '대해', '자다', '알다', '불구', '성적', '때문', '진학...\n",
       "25888    ['모임', '놀다', '늦다', '들어오다', '남편', '캐', '물어', '화가']\n",
       "Name: text_tokenized2, Length: 25889, dtype: object"
      ]
     },
     "execution_count": 100,
     "metadata": {},
     "output_type": "execute_result"
    }
   ],
   "source": [
    "a"
   ]
  },
  {
   "cell_type": "code",
   "execution_count": 101,
   "id": "9cd9bd74",
   "metadata": {},
   "outputs": [],
   "source": [
    "ssaa = []\n",
    "for i in range(len(a)):\n",
    "    ssaa.append(eval(a[i]))"
   ]
  },
  {
   "cell_type": "code",
   "execution_count": 102,
   "id": "a6ae2d4a",
   "metadata": {},
   "outputs": [],
   "source": [
    "ssa = ssaa + aa "
   ]
  },
  {
   "cell_type": "code",
   "execution_count": 103,
   "id": "62ab6652",
   "metadata": {},
   "outputs": [],
   "source": [
    "X_train = train_data['text_tokenized2']  #25,889\n",
    "y_train = train_data['bi_sent']\n",
    "X_test = test_data['text_tokenized2'] #8,630\n",
    "y_test = test_data['bi_sent']"
   ]
  },
  {
   "cell_type": "markdown",
   "id": "45afec25",
   "metadata": {},
   "source": [
    "### 정수 인코딩  \n",
    "기계가 텍스트를 숫자로 처리할 수 있도록 훈련 데이터와 테스트 데이터에 정수 인코딩 수행해야함"
   ]
  },
  {
   "cell_type": "code",
   "execution_count": 104,
   "id": "07ccd18b",
   "metadata": {},
   "outputs": [],
   "source": [
    "from tensorflow.keras.preprocessing.text import Tokenizer\n",
    "from tensorflow.keras.preprocessing.sequence import pad_sequences\n",
    "tokenizer = Tokenizer()\n",
    "tokenizer.fit_on_texts(ssa) # 훈련데이터에 대해 단어 집합 만들기"
   ]
  },
  {
   "cell_type": "code",
   "execution_count": 105,
   "id": "82650fc5",
   "metadata": {},
   "outputs": [
    {
     "name": "stdout",
     "output_type": "stream",
     "text": [
      "단어 집합(vocabulary)의 크기 : 9068\n",
      "등장 빈도가 1번 이하인 희귀 단어의 수: 3047\n",
      "단어 집합에서 희귀 단어의 비율: 33.60167622408469\n",
      "전체 등장 빈도에서 희귀 단어 등장 빈도 비율: 1.5451866952680877\n"
     ]
    }
   ],
   "source": [
    "threshold = 2\n",
    "total_cnt = len(tokenizer.word_index) # 단어의 수\n",
    "rare_cnt = 0 # 등장 빈도수가 threshold보다 작은 단어의 개수를 카운트\n",
    "total_freq = 0 # 훈련 데이터의 전체 단어 빈도수 총 합\n",
    "rare_freq = 0 # 등장 빈도수가 threshold보다 작은 단어의 등장 빈도수의 총 합\n",
    "\n",
    "# 단어와 빈도수의 쌍(pair)을 key와 value로 받는다.\n",
    "for key, value in tokenizer.word_counts.items():\n",
    "    total_freq = total_freq + value\n",
    "\n",
    "    # 단어의 등장 빈도수가 threshold보다 작으면\n",
    "    if(value < threshold):\n",
    "        rare_cnt = rare_cnt + 1\n",
    "        rare_freq = rare_freq + value\n",
    "\n",
    "print('단어 집합(vocabulary)의 크기 :',total_cnt)\n",
    "print('등장 빈도가 %s번 이하인 희귀 단어의 수: %s'%(threshold - 1, rare_cnt))\n",
    "print(\"단어 집합에서 희귀 단어의 비율:\", (rare_cnt / total_cnt)*100)\n",
    "print(\"전체 등장 빈도에서 희귀 단어 등장 빈도 비율:\", (rare_freq / total_freq)*100)"
   ]
  },
  {
   "cell_type": "code",
   "execution_count": 106,
   "id": "cb0bd016",
   "metadata": {},
   "outputs": [
    {
     "name": "stdout",
     "output_type": "stream",
     "text": [
      "단어 집합의 크기 : 6023\n"
     ]
    }
   ],
   "source": [
    "# 등장 빈도가 1번 이하인 희귀 단어는 약 32%를 차지함 → 자연어 처리에서 중요하지 않을 것이므로 제외함\n",
    "vocab_size = total_cnt - rare_cnt + 2\n",
    "print('단어 집합의 크기 :',vocab_size)"
   ]
  },
  {
   "cell_type": "code",
   "execution_count": 107,
   "id": "e3bd9a3f",
   "metadata": {},
   "outputs": [],
   "source": [
    "# 텍스트 시퀀스를 정수 시퀀스로 변환\n",
    "tokenizer = Tokenizer(vocab_size, oov_token = 'OOV') \n",
    "tokenizer.fit_on_texts(X_train)\n",
    "X_train = tokenizer.texts_to_sequences(X_train)\n",
    "X_test = tokenizer.texts_to_sequences(X_test)"
   ]
  },
  {
   "cell_type": "code",
   "execution_count": 108,
   "id": "fa7c4319",
   "metadata": {},
   "outputs": [],
   "source": [
    "tokenizer = Tokenizer(vocab_size, oov_token = 'OOV') \n",
    "tokenizer.fit_on_texts(ssa)\n",
    "ssa_int = tokenizer.texts_to_sequences(ssa)"
   ]
  },
  {
   "cell_type": "code",
   "execution_count": 109,
   "id": "271da428",
   "metadata": {},
   "outputs": [
    {
     "data": {
      "text/plain": [
       "25889"
      ]
     },
     "execution_count": 109,
     "metadata": {},
     "output_type": "execute_result"
    }
   ],
   "source": [
    "len(ssaa) #25,889"
   ]
  },
  {
   "cell_type": "code",
   "execution_count": 110,
   "id": "52f1f41e",
   "metadata": {},
   "outputs": [
    {
     "name": "stdout",
     "output_type": "stream",
     "text": [
      "[[2, 204, 722, 723, 2422], [877, 1006, 822, 1999, 3], [245, 65, 16, 49, 23]]\n"
     ]
    }
   ],
   "source": [
    "print(ssa_int[:3])"
   ]
  },
  {
   "cell_type": "markdown",
   "id": "8afca8f9",
   "metadata": {},
   "source": [
    "### 패딩(padding)  \n",
    "서로 다른 길이의 샘플들의 길이를 동일하게 맞춰줌"
   ]
  },
  {
   "cell_type": "code",
   "execution_count": 111,
   "id": "4dd5a273",
   "metadata": {},
   "outputs": [
    {
     "name": "stdout",
     "output_type": "stream",
     "text": [
      "리뷰의 최대 길이 : 206\n",
      "리뷰의 평균 길이 : 7.356026411012049\n"
     ]
    },
    {
     "data": {
      "image/png": "[encoded data removed]",
      "text/plain": [
       "<Figure size 432x288 with 1 Axes>"
      ]
     },
     "metadata": {
      "needs_background": "light"
     },
     "output_type": "display_data"
    }
   ],
   "source": [
    "print('리뷰의 최대 길이 :',max(len(l) for l in ssa_int))\n",
    "print('리뷰의 평균 길이 :',sum(map(len, ssa_int))/len(ssa_int))\n",
    "plt.hist([len(s) for s in ssa_int], bins=50)\n",
    "plt.xlabel('length of samples')\n",
    "plt.ylabel('number of samples')\n",
    "plt.show()"
   ]
  },
  {
   "cell_type": "code",
   "execution_count": 112,
   "id": "c41a23bb",
   "metadata": {},
   "outputs": [],
   "source": [
    "def below_threshold_len(max_len, nested_list):\n",
    "    cnt = 0\n",
    "    for s in nested_list:\n",
    "        if(len(s) <= max_len):\n",
    "            cnt = cnt + 1\n",
    "    print('전체 샘플 중 길이가 %s 이하인 샘플의 비율: %s'%(max_len, (cnt / len(nested_list))*100))"
   ]
  },
  {
   "cell_type": "code",
   "execution_count": 113,
   "id": "e4c57826",
   "metadata": {},
   "outputs": [
    {
     "name": "stdout",
     "output_type": "stream",
     "text": [
      "전체 샘플 중 길이가 25 이하인 샘플의 비율: 98.95922706755698\n"
     ]
    }
   ],
   "source": [
    "max_len = 25\n",
    "below_threshold_len(max_len, ssa_int)"
   ]
  },
  {
   "cell_type": "code",
   "execution_count": 114,
   "id": "a5e6179f",
   "metadata": {},
   "outputs": [],
   "source": [
    "# pad.sequences: 행렬 연산을 위해서 여러 문장의 길이를 임의로 동일하게 맞춰주는 작업\n",
    "ssa_int_pad = pad_sequences(ssa_int, maxlen = max_len)\n",
    "X_test = pad_sequences(X_test, maxlen = max_len)"
   ]
  },
  {
   "cell_type": "markdown",
   "id": "0fc09188",
   "metadata": {},
   "source": [
    "### GRU 모델링  \n",
    "<b>* Sequential Model:</b>  순차적으로 layer를 더해나가는 방식  \n",
    "<b>* Embedding Layer:</b> 문자 입력에 대해서 학습을 요할 때 필요한 레이어\n",
    "- 첫 번째 인자: 단어 사전의 크기(=학습하고자 하는 단어의 수)  \n",
    "- 두 번째 인자: output dimension  \n",
    "- 세 번째 인자: 한 번에 학습하고자 하는 문장의 길이, 다음으로 플래튼 레이어가 오게 되면 반드시 명시해야함  \n",
    "\n",
    "<b>* GRU:</b> LSTM 간소화 버전, LSTM보다 가중치가 적기 때문에 계산량이 적지만 좋은 성능을 냄  \n",
    "예) model.add(GRU(hidden_size, input_shape=(timesteps, input_dim)))"
   ]
  },
  {
   "cell_type": "code",
   "execution_count": 116,
   "id": "f4d55114",
   "metadata": {},
   "outputs": [],
   "source": [
    "import keras\n",
    "from keras.layers import Embedding, Dense, GRU, LSTM, SimpleRNN\n",
    "from keras.models import Sequential\n",
    "from keras.models import load_model\n",
    "from keras.callbacks import EarlyStopping, ModelCheckpoint"
   ]
  },
  {
   "cell_type": "code",
   "execution_count": 137,
   "id": "781903c0",
   "metadata": {},
   "outputs": [],
   "source": [
    "embedding_dim = 64\n",
    "hidden_units = 128\n",
    "\n",
    "model = Sequential()\n",
    "model.add(Embedding(vocab_size, embedding_dim, input_length=200))\n",
    "# model.add(LSTM(hidden_units))\n",
    "model.add(GRU(hidden_units, return_sequences=True))\n",
    "model.add(Dense(1, activation='sigmoid'))\n",
    "\n",
    "es = EarlyStopping(monitor='val_loss', mode='min', verbose=1, patience=4)\n",
    "mc = ModelCheckpoint('best_model.h5', monitor='val_acc', mode='max', verbose=1, save_best_only=True)"
   ]
  },
  {
   "cell_type": "code",
   "execution_count": 117,
   "id": "737170a7",
   "metadata": {},
   "outputs": [],
   "source": [
    "# embedding_dim = 64\n",
    "# hidden_units = 128\n",
    "\n",
    "# model = Sequential()\n",
    "# model.add(Embedding(vocab_size, embedding_dim))\n",
    "# model.add(GRU(hidden_units, return_sequences=True))\n",
    "# model.add(SimpleRNN(128))\n",
    "# model.add(Dense(1))\n",
    "\n",
    "# es = EarlyStopping(monitor='val_loss', mode='min', verbose=1, patience=4)\n",
    "# mc = ModelCheckpoint('best_model.h5', monitor='val_acc', mode='max', verbose=1, save_best_only=True)"
   ]
  },
  {
   "cell_type": "code",
   "execution_count": 138,
   "id": "f0349805",
   "metadata": {},
   "outputs": [
    {
     "name": "stdout",
     "output_type": "stream",
     "text": [
      "Model: \"sequential_8\"\n",
      "_________________________________________________________________\n",
      " Layer (type)                Output Shape              Param #   \n",
      "=================================================================\n",
      " embedding_8 (Embedding)     (None, 200, 64)           385472    \n",
      "                                                                 \n",
      " gru_3 (GRU)                 (None, 200, 128)          74496     \n",
      "                                                                 \n",
      " dense_6 (Dense)             (None, 200, 1)            129       \n",
      "                                                                 \n",
      "=================================================================\n",
      "Total params: 460,097\n",
      "Trainable params: 460,097\n",
      "Non-trainable params: 0\n",
      "_________________________________________________________________\n"
     ]
    }
   ],
   "source": [
    "model.summary()"
   ]
  },
  {
   "cell_type": "code",
   "execution_count": 139,
   "id": "18ab3bba",
   "metadata": {},
   "outputs": [],
   "source": [
    "X_train = ssa_int_pad[:len(ssaa)] # 말뭉치만 넣어서 모델 훈련"
   ]
  },
  {
   "cell_type": "code",
   "execution_count": 140,
   "id": "832fb02e",
   "metadata": {},
   "outputs": [
    {
     "data": {
      "text/plain": [
       "25889"
      ]
     },
     "execution_count": 140,
     "metadata": {},
     "output_type": "execute_result"
    }
   ],
   "source": [
    "len(X_train)"
   ]
  },
  {
   "cell_type": "code",
   "execution_count": 141,
   "id": "d11af36e",
   "metadata": {},
   "outputs": [
    {
     "name": "stdout",
     "output_type": "stream",
     "text": [
      "Epoch 1/15\n"
     ]
    },
    {
     "ename": "ValueError",
     "evalue": "in user code:\n\n    File \"C:\\Users\\eunah.lee\\Anaconda3\\lib\\site-packages\\keras\\engine\\training.py\", line 1051, in train_function  *\n        return step_function(self, iterator)\n    File \"C:\\Users\\eunah.lee\\Anaconda3\\lib\\site-packages\\keras\\engine\\training.py\", line 1040, in step_function  **\n        outputs = model.distribute_strategy.run(run_step, args=(data,))\n    File \"C:\\Users\\eunah.lee\\Anaconda3\\lib\\site-packages\\keras\\engine\\training.py\", line 1030, in run_step  **\n        outputs = model.train_step(data)\n    File \"C:\\Users\\eunah.lee\\Anaconda3\\lib\\site-packages\\keras\\engine\\training.py\", line 889, in train_step\n        y_pred = self(x, training=True)\n    File \"C:\\Users\\eunah.lee\\Anaconda3\\lib\\site-packages\\keras\\utils\\traceback_utils.py\", line 67, in error_handler\n        raise e.with_traceback(filtered_tb) from None\n    File \"C:\\Users\\eunah.lee\\Anaconda3\\lib\\site-packages\\keras\\engine\\input_spec.py\", line 264, in assert_input_compatibility\n        raise ValueError(f'Input {input_index} of layer \"{layer_name}\" is '\n\n    ValueError: Input 0 of layer \"sequential_8\" is incompatible with the layer: expected shape=(None, 200), found shape=(None, 25)\n",
     "output_type": "error",
     "traceback": [
      "\u001b[1;31m---------------------------------------------------------------------------\u001b[0m",
      "\u001b[1;31mValueError\u001b[0m                                Traceback (most recent call last)",
      "\u001b[1;32m~\\AppData\\Local\\Temp/ipykernel_23104/788182720.py\u001b[0m in \u001b[0;36m<module>\u001b[1;34m\u001b[0m\n\u001b[0;32m      2\u001b[0m \u001b[1;31m# fit(): 모델 학습, 적합\u001b[0m\u001b[1;33m\u001b[0m\u001b[1;33m\u001b[0m\u001b[0m\n\u001b[0;32m      3\u001b[0m \u001b[0mmodel\u001b[0m\u001b[1;33m.\u001b[0m\u001b[0mcompile\u001b[0m\u001b[1;33m(\u001b[0m\u001b[0moptimizer\u001b[0m\u001b[1;33m=\u001b[0m\u001b[1;34m'rmsprop'\u001b[0m\u001b[1;33m,\u001b[0m \u001b[0mloss\u001b[0m\u001b[1;33m=\u001b[0m\u001b[1;34m'binary_crossentropy'\u001b[0m\u001b[1;33m,\u001b[0m \u001b[0mmetrics\u001b[0m\u001b[1;33m=\u001b[0m\u001b[1;33m[\u001b[0m\u001b[1;34m'acc'\u001b[0m\u001b[1;33m]\u001b[0m\u001b[1;33m)\u001b[0m\u001b[1;33m\u001b[0m\u001b[1;33m\u001b[0m\u001b[0m\n\u001b[1;32m----> 4\u001b[1;33m \u001b[0mhistory\u001b[0m \u001b[1;33m=\u001b[0m \u001b[0mmodel\u001b[0m\u001b[1;33m.\u001b[0m\u001b[0mfit\u001b[0m\u001b[1;33m(\u001b[0m\u001b[0mX_train\u001b[0m\u001b[1;33m,\u001b[0m \u001b[0my_train\u001b[0m\u001b[1;33m,\u001b[0m \u001b[0mepochs\u001b[0m\u001b[1;33m=\u001b[0m\u001b[1;36m15\u001b[0m\u001b[1;33m,\u001b[0m \u001b[0mcallbacks\u001b[0m\u001b[1;33m=\u001b[0m\u001b[0mes\u001b[0m\u001b[1;33m,\u001b[0m \u001b[0mbatch_size\u001b[0m\u001b[1;33m=\u001b[0m\u001b[1;36m60\u001b[0m\u001b[1;33m,\u001b[0m \u001b[0mvalidation_split\u001b[0m\u001b[1;33m=\u001b[0m\u001b[1;36m0.2\u001b[0m\u001b[1;33m)\u001b[0m\u001b[1;33m\u001b[0m\u001b[1;33m\u001b[0m\u001b[0m\n\u001b[0m",
      "\u001b[1;32m~\\Anaconda3\\lib\\site-packages\\keras\\utils\\traceback_utils.py\u001b[0m in \u001b[0;36merror_handler\u001b[1;34m(*args, **kwargs)\u001b[0m\n\u001b[0;32m     65\u001b[0m     \u001b[1;32mexcept\u001b[0m \u001b[0mException\u001b[0m \u001b[1;32mas\u001b[0m \u001b[0me\u001b[0m\u001b[1;33m:\u001b[0m  \u001b[1;31m# pylint: disable=broad-except\u001b[0m\u001b[1;33m\u001b[0m\u001b[1;33m\u001b[0m\u001b[0m\n\u001b[0;32m     66\u001b[0m       \u001b[0mfiltered_tb\u001b[0m \u001b[1;33m=\u001b[0m \u001b[0m_process_traceback_frames\u001b[0m\u001b[1;33m(\u001b[0m\u001b[0me\u001b[0m\u001b[1;33m.\u001b[0m\u001b[0m__traceback__\u001b[0m\u001b[1;33m)\u001b[0m\u001b[1;33m\u001b[0m\u001b[1;33m\u001b[0m\u001b[0m\n\u001b[1;32m---> 67\u001b[1;33m       \u001b[1;32mraise\u001b[0m \u001b[0me\u001b[0m\u001b[1;33m.\u001b[0m\u001b[0mwith_traceback\u001b[0m\u001b[1;33m(\u001b[0m\u001b[0mfiltered_tb\u001b[0m\u001b[1;33m)\u001b[0m \u001b[1;32mfrom\u001b[0m \u001b[1;32mNone\u001b[0m\u001b[1;33m\u001b[0m\u001b[1;33m\u001b[0m\u001b[0m\n\u001b[0m\u001b[0;32m     68\u001b[0m     \u001b[1;32mfinally\u001b[0m\u001b[1;33m:\u001b[0m\u001b[1;33m\u001b[0m\u001b[1;33m\u001b[0m\u001b[0m\n\u001b[0;32m     69\u001b[0m       \u001b[1;32mdel\u001b[0m \u001b[0mfiltered_tb\u001b[0m\u001b[1;33m\u001b[0m\u001b[1;33m\u001b[0m\u001b[0m\n",
      "\u001b[1;32m~\\Anaconda3\\lib\\site-packages\\keras\\engine\\training.py\u001b[0m in \u001b[0;36mtf__train_function\u001b[1;34m(iterator)\u001b[0m\n\u001b[0;32m     13\u001b[0m                 \u001b[1;32mtry\u001b[0m\u001b[1;33m:\u001b[0m\u001b[1;33m\u001b[0m\u001b[1;33m\u001b[0m\u001b[0m\n\u001b[0;32m     14\u001b[0m                     \u001b[0mdo_return\u001b[0m \u001b[1;33m=\u001b[0m \u001b[1;32mTrue\u001b[0m\u001b[1;33m\u001b[0m\u001b[1;33m\u001b[0m\u001b[0m\n\u001b[1;32m---> 15\u001b[1;33m                     \u001b[0mretval_\u001b[0m \u001b[1;33m=\u001b[0m \u001b[0mag__\u001b[0m\u001b[1;33m.\u001b[0m\u001b[0mconverted_call\u001b[0m\u001b[1;33m(\u001b[0m\u001b[0mag__\u001b[0m\u001b[1;33m.\u001b[0m\u001b[0mld\u001b[0m\u001b[1;33m(\u001b[0m\u001b[0mstep_function\u001b[0m\u001b[1;33m)\u001b[0m\u001b[1;33m,\u001b[0m \u001b[1;33m(\u001b[0m\u001b[0mag__\u001b[0m\u001b[1;33m.\u001b[0m\u001b[0mld\u001b[0m\u001b[1;33m(\u001b[0m\u001b[0mself\u001b[0m\u001b[1;33m)\u001b[0m\u001b[1;33m,\u001b[0m \u001b[0mag__\u001b[0m\u001b[1;33m.\u001b[0m\u001b[0mld\u001b[0m\u001b[1;33m(\u001b[0m\u001b[0miterator\u001b[0m\u001b[1;33m)\u001b[0m\u001b[1;33m)\u001b[0m\u001b[1;33m,\u001b[0m \u001b[1;32mNone\u001b[0m\u001b[1;33m,\u001b[0m \u001b[0mfscope\u001b[0m\u001b[1;33m)\u001b[0m\u001b[1;33m\u001b[0m\u001b[1;33m\u001b[0m\u001b[0m\n\u001b[0m\u001b[0;32m     16\u001b[0m                 \u001b[1;32mexcept\u001b[0m\u001b[1;33m:\u001b[0m\u001b[1;33m\u001b[0m\u001b[1;33m\u001b[0m\u001b[0m\n\u001b[0;32m     17\u001b[0m                     \u001b[0mdo_return\u001b[0m \u001b[1;33m=\u001b[0m \u001b[1;32mFalse\u001b[0m\u001b[1;33m\u001b[0m\u001b[1;33m\u001b[0m\u001b[0m\n",
      "\u001b[1;31mValueError\u001b[0m: in user code:\n\n    File \"C:\\Users\\eunah.lee\\Anaconda3\\lib\\site-packages\\keras\\engine\\training.py\", line 1051, in train_function  *\n        return step_function(self, iterator)\n    File \"C:\\Users\\eunah.lee\\Anaconda3\\lib\\site-packages\\keras\\engine\\training.py\", line 1040, in step_function  **\n        outputs = model.distribute_strategy.run(run_step, args=(data,))\n    File \"C:\\Users\\eunah.lee\\Anaconda3\\lib\\site-packages\\keras\\engine\\training.py\", line 1030, in run_step  **\n        outputs = model.train_step(data)\n    File \"C:\\Users\\eunah.lee\\Anaconda3\\lib\\site-packages\\keras\\engine\\training.py\", line 889, in train_step\n        y_pred = self(x, training=True)\n    File \"C:\\Users\\eunah.lee\\Anaconda3\\lib\\site-packages\\keras\\utils\\traceback_utils.py\", line 67, in error_handler\n        raise e.with_traceback(filtered_tb) from None\n    File \"C:\\Users\\eunah.lee\\Anaconda3\\lib\\site-packages\\keras\\engine\\input_spec.py\", line 264, in assert_input_compatibility\n        raise ValueError(f'Input {input_index} of layer \"{layer_name}\" is '\n\n    ValueError: Input 0 of layer \"sequential_8\" is incompatible with the layer: expected shape=(None, 200), found shape=(None, 25)\n"
     ]
    }
   ],
   "source": [
    "# compile(): 모델을 기계가 이해할 수 있도록 컴파일함\n",
    "# fit(): 모델 학습, 적합\n",
    "model.compile(optimizer='rmsprop', loss='binary_crossentropy', metrics=['acc'])\n",
    "history = model.fit(X_train, y_train, epochs=15, callbacks=es, batch_size=60, validation_split=0.2)\n"
   ]
  },
  {
   "cell_type": "code",
   "execution_count": 131,
   "id": "83ee5468",
   "metadata": {},
   "outputs": [
    {
     "name": "stdout",
     "output_type": "stream",
     "text": [
      "270/270 [==============================] - 3s 11ms/step - loss: 0.5484 - acc: 0.7893\n",
      "\n",
      " 테스트 정확도: 0.7893\n"
     ]
    }
   ],
   "source": [
    "#loaded_model = load_model('best_model.h5')\n",
    "print(\"\\n 테스트 정확도: %.4f\" % (model.evaluate(X_test, y_test)[1]))"
   ]
  },
  {
   "cell_type": "code",
   "execution_count": 132,
   "id": "874b9bee",
   "metadata": {},
   "outputs": [],
   "source": [
    "X_predict = ssa_int_pad[len(ssaa):]"
   ]
  },
  {
   "cell_type": "code",
   "execution_count": 133,
   "id": "9cabdd90",
   "metadata": {},
   "outputs": [
    {
     "data": {
      "text/plain": [
       "array([ 173,  512, 1021,  382,  161, 1238, 3100,  338,   54,  616, 1292,\n",
       "        875, 2595,  162,  512,  254,  378,  692, 2071, 4971, 3480,  518,\n",
       "       1257,  212, 1336])"
      ]
     },
     "execution_count": 133,
     "metadata": {},
     "output_type": "execute_result"
    }
   ],
   "source": [
    "X_predict[1]"
   ]
  },
  {
   "cell_type": "code",
   "execution_count": 63,
   "id": "2b49b43a",
   "metadata": {
    "collapsed": true
   },
   "outputs": [
    {
     "data": {
      "text/plain": [
       "array([[   0],\n",
       "       [   0],\n",
       "       [   0],\n",
       "       [   0],\n",
       "       [   0],\n",
       "       [   0],\n",
       "       [   0],\n",
       "       [   0],\n",
       "       [   0],\n",
       "       [   0],\n",
       "       [ 409],\n",
       "       [2406],\n",
       "       [ 839],\n",
       "       [ 419],\n",
       "       [2731],\n",
       "       [ 839],\n",
       "       [ 974],\n",
       "       [ 419],\n",
       "       [2796],\n",
       "       [ 419],\n",
       "       [  52],\n",
       "       [1235],\n",
       "       [ 839],\n",
       "       [2796],\n",
       "       [  22]])"
      ]
     },
     "execution_count": 63,
     "metadata": {},
     "output_type": "execute_result"
    }
   ],
   "source": [
    "X_predict[i].reshape(X_predict[i].shape[0], 1)"
   ]
  },
  {
   "cell_type": "code",
   "execution_count": 134,
   "id": "1da37be7",
   "metadata": {},
   "outputs": [
    {
     "name": "stdout",
     "output_type": "stream",
     "text": [
      "WARNING:tensorflow:Model was constructed with shape (None, None) for input KerasTensor(type_spec=TensorSpec(shape=(None, None), dtype=tf.float32, name='embedding_6_input'), name='embedding_6_input', description=\"created by layer 'embedding_6_input'\"), but it was called on an input with incompatible shape (None,).\n"
     ]
    },
    {
     "ename": "ValueError",
     "evalue": "in user code:\n\n    File \"C:\\Users\\eunah.lee\\Anaconda3\\lib\\site-packages\\keras\\engine\\training.py\", line 1845, in predict_function  *\n        return step_function(self, iterator)\n    File \"C:\\Users\\eunah.lee\\Anaconda3\\lib\\site-packages\\keras\\engine\\training.py\", line 1834, in step_function  **\n        outputs = model.distribute_strategy.run(run_step, args=(data,))\n    File \"C:\\Users\\eunah.lee\\Anaconda3\\lib\\site-packages\\keras\\engine\\training.py\", line 1823, in run_step  **\n        outputs = model.predict_step(data)\n    File \"C:\\Users\\eunah.lee\\Anaconda3\\lib\\site-packages\\keras\\engine\\training.py\", line 1791, in predict_step\n        return self(x, training=False)\n    File \"C:\\Users\\eunah.lee\\Anaconda3\\lib\\site-packages\\keras\\utils\\traceback_utils.py\", line 67, in error_handler\n        raise e.with_traceback(filtered_tb) from None\n    File \"C:\\Users\\eunah.lee\\Anaconda3\\lib\\site-packages\\keras\\engine\\input_spec.py\", line 214, in assert_input_compatibility\n        raise ValueError(f'Input {input_index} of layer \"{layer_name}\" '\n\n    ValueError: Exception encountered when calling layer \"sequential_6\" (type Sequential).\n    \n    Input 0 of layer \"gru_2\" is incompatible with the layer: expected ndim=3, found ndim=2. Full shape received: (None, 64)\n    \n    Call arguments received by layer \"sequential_6\" (type Sequential):\n      • inputs=tf.Tensor(shape=(None,), dtype=int32)\n      • training=False\n      • mask=None\n",
     "output_type": "error",
     "traceback": [
      "\u001b[1;31m---------------------------------------------------------------------------\u001b[0m",
      "\u001b[1;31mValueError\u001b[0m                                Traceback (most recent call last)",
      "\u001b[1;32m~\\AppData\\Local\\Temp/ipykernel_23104/766878364.py\u001b[0m in \u001b[0;36m<module>\u001b[1;34m\u001b[0m\n\u001b[0;32m      1\u001b[0m \u001b[1;32mfor\u001b[0m \u001b[0mi\u001b[0m \u001b[1;32min\u001b[0m \u001b[0mrange\u001b[0m \u001b[1;33m(\u001b[0m\u001b[1;36m10\u001b[0m\u001b[1;33m)\u001b[0m\u001b[1;33m:\u001b[0m\u001b[1;33m\u001b[0m\u001b[1;33m\u001b[0m\u001b[0m\n\u001b[1;32m----> 2\u001b[1;33m     \u001b[0mscore\u001b[0m \u001b[1;33m=\u001b[0m \u001b[0mnp\u001b[0m\u001b[1;33m.\u001b[0m\u001b[0mmean\u001b[0m\u001b[1;33m(\u001b[0m\u001b[0mmodel\u001b[0m\u001b[1;33m.\u001b[0m\u001b[0mpredict\u001b[0m\u001b[1;33m(\u001b[0m\u001b[0mX_predict\u001b[0m\u001b[1;33m[\u001b[0m\u001b[0mi\u001b[0m\u001b[1;33m]\u001b[0m\u001b[1;33m)\u001b[0m\u001b[1;33m)\u001b[0m\u001b[1;33m\u001b[0m\u001b[1;33m\u001b[0m\u001b[0m\n\u001b[0m\u001b[0;32m      3\u001b[0m \u001b[1;31m#     score = np.mean(model.predict(X_predict[i].reshape(X_predict[i].shape[0], 1)))\u001b[0m\u001b[1;33m\u001b[0m\u001b[1;33m\u001b[0m\u001b[0m\n\u001b[0;32m      4\u001b[0m     \u001b[0mprint\u001b[0m\u001b[1;33m(\u001b[0m\u001b[0mscore\u001b[0m\u001b[1;33m)\u001b[0m\u001b[1;33m\u001b[0m\u001b[1;33m\u001b[0m\u001b[0m\n",
      "\u001b[1;32m~\\Anaconda3\\lib\\site-packages\\keras\\utils\\traceback_utils.py\u001b[0m in \u001b[0;36merror_handler\u001b[1;34m(*args, **kwargs)\u001b[0m\n\u001b[0;32m     65\u001b[0m     \u001b[1;32mexcept\u001b[0m \u001b[0mException\u001b[0m \u001b[1;32mas\u001b[0m \u001b[0me\u001b[0m\u001b[1;33m:\u001b[0m  \u001b[1;31m# pylint: disable=broad-except\u001b[0m\u001b[1;33m\u001b[0m\u001b[1;33m\u001b[0m\u001b[0m\n\u001b[0;32m     66\u001b[0m       \u001b[0mfiltered_tb\u001b[0m \u001b[1;33m=\u001b[0m \u001b[0m_process_traceback_frames\u001b[0m\u001b[1;33m(\u001b[0m\u001b[0me\u001b[0m\u001b[1;33m.\u001b[0m\u001b[0m__traceback__\u001b[0m\u001b[1;33m)\u001b[0m\u001b[1;33m\u001b[0m\u001b[1;33m\u001b[0m\u001b[0m\n\u001b[1;32m---> 67\u001b[1;33m       \u001b[1;32mraise\u001b[0m \u001b[0me\u001b[0m\u001b[1;33m.\u001b[0m\u001b[0mwith_traceback\u001b[0m\u001b[1;33m(\u001b[0m\u001b[0mfiltered_tb\u001b[0m\u001b[1;33m)\u001b[0m \u001b[1;32mfrom\u001b[0m \u001b[1;32mNone\u001b[0m\u001b[1;33m\u001b[0m\u001b[1;33m\u001b[0m\u001b[0m\n\u001b[0m\u001b[0;32m     68\u001b[0m     \u001b[1;32mfinally\u001b[0m\u001b[1;33m:\u001b[0m\u001b[1;33m\u001b[0m\u001b[1;33m\u001b[0m\u001b[0m\n\u001b[0;32m     69\u001b[0m       \u001b[1;32mdel\u001b[0m \u001b[0mfiltered_tb\u001b[0m\u001b[1;33m\u001b[0m\u001b[1;33m\u001b[0m\u001b[0m\n",
      "\u001b[1;32m~\\Anaconda3\\lib\\site-packages\\keras\\engine\\training.py\u001b[0m in \u001b[0;36mtf__predict_function\u001b[1;34m(iterator)\u001b[0m\n\u001b[0;32m     13\u001b[0m                 \u001b[1;32mtry\u001b[0m\u001b[1;33m:\u001b[0m\u001b[1;33m\u001b[0m\u001b[1;33m\u001b[0m\u001b[0m\n\u001b[0;32m     14\u001b[0m                     \u001b[0mdo_return\u001b[0m \u001b[1;33m=\u001b[0m \u001b[1;32mTrue\u001b[0m\u001b[1;33m\u001b[0m\u001b[1;33m\u001b[0m\u001b[0m\n\u001b[1;32m---> 15\u001b[1;33m                     \u001b[0mretval_\u001b[0m \u001b[1;33m=\u001b[0m \u001b[0mag__\u001b[0m\u001b[1;33m.\u001b[0m\u001b[0mconverted_call\u001b[0m\u001b[1;33m(\u001b[0m\u001b[0mag__\u001b[0m\u001b[1;33m.\u001b[0m\u001b[0mld\u001b[0m\u001b[1;33m(\u001b[0m\u001b[0mstep_function\u001b[0m\u001b[1;33m)\u001b[0m\u001b[1;33m,\u001b[0m \u001b[1;33m(\u001b[0m\u001b[0mag__\u001b[0m\u001b[1;33m.\u001b[0m\u001b[0mld\u001b[0m\u001b[1;33m(\u001b[0m\u001b[0mself\u001b[0m\u001b[1;33m)\u001b[0m\u001b[1;33m,\u001b[0m \u001b[0mag__\u001b[0m\u001b[1;33m.\u001b[0m\u001b[0mld\u001b[0m\u001b[1;33m(\u001b[0m\u001b[0miterator\u001b[0m\u001b[1;33m)\u001b[0m\u001b[1;33m)\u001b[0m\u001b[1;33m,\u001b[0m \u001b[1;32mNone\u001b[0m\u001b[1;33m,\u001b[0m \u001b[0mfscope\u001b[0m\u001b[1;33m)\u001b[0m\u001b[1;33m\u001b[0m\u001b[1;33m\u001b[0m\u001b[0m\n\u001b[0m\u001b[0;32m     16\u001b[0m                 \u001b[1;32mexcept\u001b[0m\u001b[1;33m:\u001b[0m\u001b[1;33m\u001b[0m\u001b[1;33m\u001b[0m\u001b[0m\n\u001b[0;32m     17\u001b[0m                     \u001b[0mdo_return\u001b[0m \u001b[1;33m=\u001b[0m \u001b[1;32mFalse\u001b[0m\u001b[1;33m\u001b[0m\u001b[1;33m\u001b[0m\u001b[0m\n",
      "\u001b[1;31mValueError\u001b[0m: in user code:\n\n    File \"C:\\Users\\eunah.lee\\Anaconda3\\lib\\site-packages\\keras\\engine\\training.py\", line 1845, in predict_function  *\n        return step_function(self, iterator)\n    File \"C:\\Users\\eunah.lee\\Anaconda3\\lib\\site-packages\\keras\\engine\\training.py\", line 1834, in step_function  **\n        outputs = model.distribute_strategy.run(run_step, args=(data,))\n    File \"C:\\Users\\eunah.lee\\Anaconda3\\lib\\site-packages\\keras\\engine\\training.py\", line 1823, in run_step  **\n        outputs = model.predict_step(data)\n    File \"C:\\Users\\eunah.lee\\Anaconda3\\lib\\site-packages\\keras\\engine\\training.py\", line 1791, in predict_step\n        return self(x, training=False)\n    File \"C:\\Users\\eunah.lee\\Anaconda3\\lib\\site-packages\\keras\\utils\\traceback_utils.py\", line 67, in error_handler\n        raise e.with_traceback(filtered_tb) from None\n    File \"C:\\Users\\eunah.lee\\Anaconda3\\lib\\site-packages\\keras\\engine\\input_spec.py\", line 214, in assert_input_compatibility\n        raise ValueError(f'Input {input_index} of layer \"{layer_name}\" '\n\n    ValueError: Exception encountered when calling layer \"sequential_6\" (type Sequential).\n    \n    Input 0 of layer \"gru_2\" is incompatible with the layer: expected ndim=3, found ndim=2. Full shape received: (None, 64)\n    \n    Call arguments received by layer \"sequential_6\" (type Sequential):\n      • inputs=tf.Tensor(shape=(None,), dtype=int32)\n      • training=False\n      • mask=None\n"
     ]
    }
   ],
   "source": [
    "for i in range (10):\n",
    "    score = np.mean(model.predict(X_predict[i]))\n",
    "#     score = np.mean(model.predict(X_predict[i].reshape(X_predict[i].shape[0], 1)))\n",
    "    print(score)"
   ]
  },
  {
   "cell_type": "code",
   "execution_count": null,
   "id": "aa35d6ed",
   "metadata": {},
   "outputs": [],
   "source": []
  },
  {
   "cell_type": "code",
   "execution_count": 43,
   "id": "40ff9fe1",
   "metadata": {},
   "outputs": [
    {
     "name": "stdout",
     "output_type": "stream",
     "text": [
      "0 번째\n"
     ]
    },
    {
     "ename": "InvalidArgumentError",
     "evalue": "Graph execution error:\n\ntranspose expects a vector of size 2. But input(1) is a vector of size 3\n\t [[{{node transpose}}]]\n\t [[sequential/gru/PartitionedCall]] [Op:__inference_predict_function_20306]",
     "output_type": "error",
     "traceback": [
      "\u001b[1;31m---------------------------------------------------------------------------\u001b[0m",
      "\u001b[1;31mInvalidArgumentError\u001b[0m                      Traceback (most recent call last)",
      "\u001b[1;32m~\\AppData\\Local\\Temp/ipykernel_23104/2510603317.py\u001b[0m in \u001b[0;36m<module>\u001b[1;34m\u001b[0m\n\u001b[0;32m      5\u001b[0m \u001b[1;31m#     print(model.predict(X_predict))\u001b[0m\u001b[1;33m\u001b[0m\u001b[1;33m\u001b[0m\u001b[0m\n\u001b[0;32m      6\u001b[0m     \u001b[0mn\u001b[0m \u001b[1;33m=\u001b[0m \u001b[1;36m100\u001b[0m \u001b[1;33m-\u001b[0m \u001b[0mlen\u001b[0m\u001b[1;33m(\u001b[0m\u001b[0maa\u001b[0m\u001b[1;33m[\u001b[0m\u001b[0mi\u001b[0m\u001b[1;33m]\u001b[0m\u001b[1;33m)\u001b[0m\u001b[1;33m\u001b[0m\u001b[1;33m\u001b[0m\u001b[0m\n\u001b[1;32m----> 7\u001b[1;33m     \u001b[0mscore\u001b[0m \u001b[1;33m=\u001b[0m \u001b[0mmodel\u001b[0m\u001b[1;33m.\u001b[0m\u001b[0mpredict\u001b[0m\u001b[1;33m(\u001b[0m\u001b[0mX_predict\u001b[0m\u001b[1;33m[\u001b[0m\u001b[0mi\u001b[0m\u001b[1;33m]\u001b[0m\u001b[1;33m)\u001b[0m\u001b[1;33m\u001b[0m\u001b[1;33m\u001b[0m\u001b[0m\n\u001b[0m\u001b[0;32m      8\u001b[0m     \u001b[0msent\u001b[0m\u001b[1;33m.\u001b[0m\u001b[0mappend\u001b[0m\u001b[1;33m(\u001b[0m\u001b[0mscore\u001b[0m\u001b[1;33m)\u001b[0m\u001b[1;33m\u001b[0m\u001b[1;33m\u001b[0m\u001b[0m\n\u001b[0;32m      9\u001b[0m     \u001b[0mnum\u001b[0m\u001b[1;33m=\u001b[0m\u001b[0mnum\u001b[0m\u001b[1;33m+\u001b[0m\u001b[1;36m1\u001b[0m\u001b[1;33m\u001b[0m\u001b[1;33m\u001b[0m\u001b[0m\n",
      "\u001b[1;32m~\\Anaconda3\\lib\\site-packages\\keras\\utils\\traceback_utils.py\u001b[0m in \u001b[0;36merror_handler\u001b[1;34m(*args, **kwargs)\u001b[0m\n\u001b[0;32m     65\u001b[0m     \u001b[1;32mexcept\u001b[0m \u001b[0mException\u001b[0m \u001b[1;32mas\u001b[0m \u001b[0me\u001b[0m\u001b[1;33m:\u001b[0m  \u001b[1;31m# pylint: disable=broad-except\u001b[0m\u001b[1;33m\u001b[0m\u001b[1;33m\u001b[0m\u001b[0m\n\u001b[0;32m     66\u001b[0m       \u001b[0mfiltered_tb\u001b[0m \u001b[1;33m=\u001b[0m \u001b[0m_process_traceback_frames\u001b[0m\u001b[1;33m(\u001b[0m\u001b[0me\u001b[0m\u001b[1;33m.\u001b[0m\u001b[0m__traceback__\u001b[0m\u001b[1;33m)\u001b[0m\u001b[1;33m\u001b[0m\u001b[1;33m\u001b[0m\u001b[0m\n\u001b[1;32m---> 67\u001b[1;33m       \u001b[1;32mraise\u001b[0m \u001b[0me\u001b[0m\u001b[1;33m.\u001b[0m\u001b[0mwith_traceback\u001b[0m\u001b[1;33m(\u001b[0m\u001b[0mfiltered_tb\u001b[0m\u001b[1;33m)\u001b[0m \u001b[1;32mfrom\u001b[0m \u001b[1;32mNone\u001b[0m\u001b[1;33m\u001b[0m\u001b[1;33m\u001b[0m\u001b[0m\n\u001b[0m\u001b[0;32m     68\u001b[0m     \u001b[1;32mfinally\u001b[0m\u001b[1;33m:\u001b[0m\u001b[1;33m\u001b[0m\u001b[1;33m\u001b[0m\u001b[0m\n\u001b[0;32m     69\u001b[0m       \u001b[1;32mdel\u001b[0m \u001b[0mfiltered_tb\u001b[0m\u001b[1;33m\u001b[0m\u001b[1;33m\u001b[0m\u001b[0m\n",
      "\u001b[1;32m~\\Anaconda3\\lib\\site-packages\\tensorflow\\python\\eager\\execute.py\u001b[0m in \u001b[0;36mquick_execute\u001b[1;34m(op_name, num_outputs, inputs, attrs, ctx, name)\u001b[0m\n\u001b[0;32m     52\u001b[0m   \u001b[1;32mtry\u001b[0m\u001b[1;33m:\u001b[0m\u001b[1;33m\u001b[0m\u001b[1;33m\u001b[0m\u001b[0m\n\u001b[0;32m     53\u001b[0m     \u001b[0mctx\u001b[0m\u001b[1;33m.\u001b[0m\u001b[0mensure_initialized\u001b[0m\u001b[1;33m(\u001b[0m\u001b[1;33m)\u001b[0m\u001b[1;33m\u001b[0m\u001b[1;33m\u001b[0m\u001b[0m\n\u001b[1;32m---> 54\u001b[1;33m     tensors = pywrap_tfe.TFE_Py_Execute(ctx._handle, device_name, op_name,\n\u001b[0m\u001b[0;32m     55\u001b[0m                                         inputs, attrs, num_outputs)\n\u001b[0;32m     56\u001b[0m   \u001b[1;32mexcept\u001b[0m \u001b[0mcore\u001b[0m\u001b[1;33m.\u001b[0m\u001b[0m_NotOkStatusException\u001b[0m \u001b[1;32mas\u001b[0m \u001b[0me\u001b[0m\u001b[1;33m:\u001b[0m\u001b[1;33m\u001b[0m\u001b[1;33m\u001b[0m\u001b[0m\n",
      "\u001b[1;31mInvalidArgumentError\u001b[0m: Graph execution error:\n\ntranspose expects a vector of size 2. But input(1) is a vector of size 3\n\t [[{{node transpose}}]]\n\t [[sequential/gru/PartitionedCall]] [Op:__inference_predict_function_20306]"
     ]
    }
   ],
   "source": [
    "sent =[]\n",
    "num=0\n",
    "for i in range(5):\n",
    "    print(num,'번째')\n",
    "#     print(model.predict(X_predict))\n",
    "    n = 100 - len(aa[i])\n",
    "    score = model.predict(X_predict[i])\n",
    "    sent.append(score)\n",
    "    num=num+1\n",
    "    if(score > 0.5):\n",
    "        print(\"{:.2f}% 확률로 긍정 리뷰입니다.\".format(score * 100))\n",
    "    else:\n",
    "        print(\"{:.2f}% 확률로 부정 리뷰입니다.\".format((1 - score) * 100)) "
   ]
  },
  {
   "cell_type": "code",
   "execution_count": null,
   "id": "4e1ce018",
   "metadata": {},
   "outputs": [],
   "source": [
    "sent =[]\n",
    "num=0\n",
    "for i in range(len(X_predict)):\n",
    "    print(num,'번째')\n",
    "#     print(model.predict(X_predict))\n",
    "    n = 100 - len(aa[i])\n",
    "    score = np.mean(model.predict(X_predict[i])[n:])\n",
    "    sent.append(score)\n",
    "    num=num+1\n",
    "    if(score > 0.5):\n",
    "        print(\"{:.2f}% 확률로 긍정 리뷰입니다.\".format(score * 100))\n",
    "    else:\n",
    "        print(\"{:.2f}% 확률로 부정 리뷰입니다.\".format((1 - score) * 100)) "
   ]
  },
  {
   "cell_type": "code",
   "execution_count": null,
   "id": "9b7be9c9",
   "metadata": {},
   "outputs": [],
   "source": [
    "X_predict[0]"
   ]
  },
  {
   "cell_type": "code",
   "execution_count": null,
   "id": "4956f6c7",
   "metadata": {},
   "outputs": [],
   "source": [
    "import re\n",
    "import kss\n",
    "def sentiment_predict(new_sentence):\n",
    "    new_sentence = re.sub(r'[^ㄱ-ㅎㅏ-ㅣ가-힣 ]','', new_sentence)\n",
    "    new_sentence = kss.split_sentences(new_sentence)\n",
    "    new_sentence = [word for word in new_sentence if not word in stopwords]\n",
    "    encoded = tokenizer.texts_to_sequences([new_sentence])\n",
    "    pad_new = pad_sequences(encoded, maxlen = max_len)\n",
    "\n",
    "    score = float(model.predict(X_predict[0]))\n",
    "    if(score > 0.5):\n",
    "        print(\"{:.2f}% 확률로 긍정 리뷰입니다.\".format(score * 100))\n",
    "    else:\n",
    "        print(\"{:.2f}% 확률로 부정 리뷰입니다.\".format((1 - score) * 100))"
   ]
  }
 ],
 "metadata": {
  "kernelspec": {
   "display_name": "Python 3 (ipykernel)",
   "language": "python",
   "name": "python3"
  },
  "language_info": {
   "codemirror_mode": {
    "name": "ipython",
    "version": 3
   },
   "file_extension": ".py",
   "mimetype": "text/x-python",
   "name": "python",
   "nbconvert_exporter": "python",
   "pygments_lexer": "ipython3",
   "version": "3.9.7"
  }
 },
 "nbformat": 4,
 "nbformat_minor": 5
}
